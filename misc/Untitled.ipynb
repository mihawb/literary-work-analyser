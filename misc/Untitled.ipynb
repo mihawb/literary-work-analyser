{
 "cells": [
  {
   "cell_type": "code",
   "execution_count": 1,
   "id": "cab3929b",
   "metadata": {},
   "outputs": [],
   "source": [
    "import os, fnmatch, sys"
   ]
  },
  {
   "cell_type": "code",
   "execution_count": 5,
   "id": "fde4ddc6",
   "metadata": {},
   "outputs": [],
   "source": [
    "sys.path.insert(1, '..')\n",
    "import src.authorwordbag"
   ]
  },
  {
   "cell_type": "code",
   "execution_count": 10,
   "id": "486ddf65",
   "metadata": {},
   "outputs": [
    {
     "name": "stdout",
     "output_type": "stream",
     "text": [
      "..\\books\n",
      "anything\n",
      "['adam-mickiewicz', 'boleslaw-prus', 'eliza-orzeszkowa', 'henryk-sienkiewicz', 'stanislaw-wyspianski', 'stefan-zeromski', 'tadeusz-boy-zelenski', 'zgromadzenie-ogolne-onz']\n",
      "henryk-sienkiewicz\n"
     ]
    }
   ],
   "source": [
    "K = src.authorwordbag.WordBagOfAuthorClassifier('..\\\\books', 50)\n",
    "print(K.getAuthors())\n",
    "print(K.classify('rzekł'))"
   ]
  },
  {
   "cell_type": "code",
   "execution_count": 9,
   "id": "2e609ddc",
   "metadata": {},
   "outputs": [
    {
     "data": {
      "text/plain": [
       "WindowsPath('C:/Users/mihawb/OneDrive/studia/sem III 2021Z/PRAD/priad-project/misc')"
      ]
     },
     "execution_count": 9,
     "metadata": {},
     "output_type": "execute_result"
    }
   ],
   "source": [
    "import pathlib\n",
    "pathlib.Path().resolve()"
   ]
  }
 ],
 "metadata": {
  "kernelspec": {
   "display_name": "Python 3",
   "language": "python",
   "name": "python3"
  },
  "language_info": {
   "codemirror_mode": {
    "name": "ipython",
    "version": 3
   },
   "file_extension": ".py",
   "mimetype": "text/x-python",
   "name": "python",
   "nbconvert_exporter": "python",
   "pygments_lexer": "ipython3",
   "version": "3.8.8"
  }
 },
 "nbformat": 4,
 "nbformat_minor": 5
}

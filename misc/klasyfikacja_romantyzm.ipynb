{
 "cells": [
  {
   "cell_type": "markdown",
   "metadata": {},
   "source": [
    "## Testowanie działania klasyfikatorów na pisarzach Romantyzmu\n"
   ]
  },
  {
   "cell_type": "markdown",
   "metadata": {},
   "source": [
    "Importujemy potrzebne biblioteki"
   ]
  },
  {
   "cell_type": "code",
   "execution_count": 1,
   "metadata": {},
   "outputs": [],
   "source": [
    "import os, fnmatch\n",
    "import pandas as pd"
   ]
  },
  {
   "cell_type": "markdown",
   "metadata": {},
   "source": [
    "Dodajemy implementację potrzebnego klasyfikatora"
   ]
  },
  {
   "cell_type": "code",
   "execution_count": 3,
   "metadata": {},
   "outputs": [],
   "source": [
    "class TxtDocMatrixClassifier:\n",
    "    __unnecessary_chars = [\"!\",\",\",\".\",\"    \",\":\",\";\",\"?\",\"(\",\")\",\"—\",\"*\",\"»\",\"…\",\"«\",\"—\",\"-\",\"„\",\"”\",'\"',\"°\",\"'\"] \n",
    "    __stops = ['a', 'aby', 'ach', 'acz', 'aczkolwiek', 'aj', 'albo', 'ale', 'alez', 'ależ', 'ani', 'az', 'aż', 'bardziej', 'bardzo', 'beda', 'bedzie', 'bez', 'deda', 'będą', 'bede', 'będę', 'będzie', 'bo', 'bowiem', 'by', 'byc', 'być', 'byl', 'byla', 'byli', 'bylo', 'byly', 'był', 'była', 'było', 'były', 'bynajmniej', 'cala', 'cali', 'caly', 'cała', 'cały', 'ci', 'cie', 'ciebie', 'cię', 'co', 'cokolwiek', 'cos', 'coś', 'czasami', 'czasem', 'czemu', 'czy', 'czyli', 'daleko', 'dla', 'dlaczego', 'dlatego', 'do', 'dobrze', 'dokad', 'dokąd', 'dosc', 'dość', 'duzo', 'dużo', 'dwa', 'dwaj', 'dwie', 'dwoje', 'dzis', 'dzisiaj', 'dziś', 'gdy', 'gdyby', 'gdyz', 'gdyż', 'gdzie', 'gdziekolwiek', 'gdzies', 'gdzieś', 'go', 'i', 'ich', 'ile', 'im', 'inna', 'inne', 'inny', 'innych', 'iz', 'iż', 'ja', 'jak', 'jakas', 'jakaś', 'jakby', 'jaki', 'jakichs', 'jakichś', 'jakie', 'jakis', 'jakiś', 'jakiz', 'jakiż', 'jakkolwiek', 'jako', 'jakos', 'jakoś', 'ją', 'je', 'jeden', 'jedna', 'jednak', 'jednakze', 'jednakże', 'jedno', 'jego', 'jej', 'jemu', 'jesli', 'jest', 'jestem', 'jeszcze', 'jeśli', 'jezeli', 'jeżeli', 'juz', 'już', 'kazdy', 'każdy', 'kiedy', 'kilka', 'kims', 'kimś', 'kto', 'ktokolwiek', 'ktora', 'ktore', 'ktorego', 'ktorej', 'ktory', 'ktorych', 'ktorym', 'ktorzy', 'ktos', 'ktoś', 'która', 'które', 'którego', 'której', 'który', 'których', 'którym', 'którzy', 'ku', 'lat', 'lecz', 'lub', 'ma', 'mają', 'mało', 'mam', 'mi', 'miedzy', 'między', 'mimo', 'mna', 'mną', 'mnie', 'moga', 'mogą', 'moi', 'moim', 'moj', 'moja', 'moje', 'moze', 'mozliwe', 'mozna', 'może', 'możliwe', 'można', 'mój', 'mu', 'musi', 'my', 'na', 'nad', 'nam', 'nami', 'nas', 'nasi', 'nasz', 'nasza', 'nasze', 'naszego', 'naszych', 'natomiast', 'natychmiast', 'nawet', 'nia', 'nią', 'nic', 'nich', 'nie', 'niech', 'niego', 'niej', 'niemu', 'nigdy', 'nim', 'nimi', 'niz', 'niż', 'no', 'o', 'obok', 'od', 'około', 'on', 'ona', 'one', 'oni', 'ono', 'oraz', 'oto', 'owszem', 'pan', 'pana', 'pani', 'po', 'pod', 'podczas', 'pomimo', 'ponad', 'poniewaz', 'ponieważ', 'powinien', 'powinna', 'powinni', 'powinno', 'poza', 'prawie', 'przeciez', 'przecież', 'przed', 'przede', 'przedtem', 'przez', 'przy', 'roku', 'rowniez', 'również', 'sam', 'sama', 'są', 'sie', 'się', 'skad', 'skąd', 'soba', 'sobą', 'sobie', 'sposob', 'sposób', 'swoje', 'ta', 'tak', 'taka', 'taki', 'takie', 'takze', 'także', 'tam', 'te', 'tego', 'tej', 'ten', 'teraz', 'też', 'to', 'toba', 'tobą', 'tobie', 'totez', 'toteż', 'totobą', 'trzeba', 'tu', 'tutaj', 'twoi', 'twoim', 'twoj', 'twoja', 'twoje', 'twój', 'twym', 'ty', 'tych', 'tylko', 'tym', 'u', 'w', 'wam', 'wami', 'was', 'wasz', 'wasza', 'wasze', 'we', 'według', 'wiele', 'wielu', 'więc', 'więcej', 'wlasnie', 'właśnie', 'wszyscy', 'wszystkich', 'wszystkie', 'wszystkim', 'wszystko', 'wtedy', 'wy', 'z', 'za', 'zaden', 'zadna', 'zadne', 'zadnych', 'zapewne', 'zawsze', 'ze', 'zeby', 'zeznowu', 'zł', 'znow', 'znowu', 'znów', 'zostal', 'został', 'żaden', 'żadna', 'żadne', 'żadnych', 'że', 'żeby']\n",
    "\n",
    "    def __findBooksPaths(self) -> list:\n",
    "        result = []\n",
    "        for root, dirs, files in os.walk(self.__booksRelPath):\n",
    "            for name in files:\n",
    "                if fnmatch.fnmatch(name, '*_*.txt'):\n",
    "                    result.append(os.path.join(root, name))\n",
    "        return result \n",
    "\n",
    "    def __retrieveTokensFromBook(self, path) -> None:\n",
    "        usidx = path.index('_', len(self.__booksRelPath)+1)\n",
    "        author = path[len(self.__booksRelPath)+1:usidx]\n",
    "\n",
    "        self.__authorsWB[author] = self.__authorsWB.get(author, dict())\n",
    "        tokens_stop = []\n",
    "        tokens = []\n",
    "\n",
    "        with open(path, 'r', encoding='utf-8') as book:\n",
    "            for line in book:        \n",
    "                for char in self.__unnecessary_chars:\n",
    "                    line = line.replace(char, '')\n",
    "                line = line.rstrip().lower().split()\n",
    "\n",
    "                if line:\n",
    "                    tokens_stop.extend(line)\n",
    "\n",
    "        for ts in tokens_stop:\n",
    "            if not ts in self.__stops:\n",
    "                tokens.append(ts)\n",
    "\n",
    "        for word in sorted(tokens):\n",
    "            if word.isalpha():\n",
    "                self.__authorsWB[author][word] = self.__authorsWB[author].get(word, 0) + 1\n",
    "\n",
    "    def __truncateAuthorsWB(self) -> None:\n",
    "        for author in self.__authorsWB:\n",
    "            tempWB = dict(sorted(self.__authorsWB[author].items(), key=lambda x: x[1], reverse = True))\n",
    "            self.__authorsWB[author] = dict()\n",
    "\n",
    "            count = min(len(tempWB.keys()), self.__lim)\n",
    "            for token in tempWB:\n",
    "                self.__authorsWB[author][token] = tempWB[token]\n",
    "\n",
    "                if count < 0: break\n",
    "                count -= 1\n",
    "                \n",
    "    def __buildAuthorsWB(self) -> None:\n",
    "        paths = self.__findBooksPaths()\n",
    "        for p in paths:\n",
    "            self.__retrieveTokensFromBook(p)\n",
    "        self.__truncateAuthorsWB()\n",
    "\n",
    "    def __buildFragDict(self, frag) -> None:\n",
    "        frag = frag.replace('\\n', ' ')\n",
    "        for char in self.__unnecessary_chars:\n",
    "            frag = frag.replace(char, '')\n",
    "        frag = frag.strip().lower().split()\n",
    "\n",
    "        self.__fragTokens = dict()\n",
    "        for token in frag:\n",
    "            if token not in self.__stops:\n",
    "                self.__fragTokens[token] = self.__fragTokens.get(token, 0) + 1\n",
    "        self.__fragTokens = dict(sorted(self.__fragTokens.items(), key=lambda x: x[1], reverse = True))\n",
    "\n",
    "    def __buildTDMfromFrag(self) -> None:\n",
    "        self.__fragTDM = pd.DataFrame(columns=self.authors)\n",
    "        for ft in self.__fragTokens:\n",
    "            licznik = [0] * len(self.authors)\n",
    "            for i, author in enumerate(self.authors):\n",
    "                for token in self.__authorsWB[author]:\n",
    "                    if ft == token:\n",
    "                        licznik[i] += self.__authorsWB[author][token]\n",
    "            element = pd.DataFrame([licznik], columns=self.authors, index=[ft])\n",
    "            self.__fragTDM = self.__fragTDM.append(element)\n",
    "        \n",
    "    def classifyFullProb(self, frag) -> dict:\n",
    "        self.__buildFragDict(frag)\n",
    "        self.__buildTDMfromFrag()\n",
    "        \n",
    "        result = dict()\n",
    "        for i, el in enumerate(self.__fragTDM.sum()):\n",
    "            result[self.authors[i]] = el\n",
    "            \n",
    "        return result\n",
    "\n",
    "    def classify(self, frag) -> str:\n",
    "        full = self.classifyFullProb(frag)\n",
    "        maxa = \"\"\n",
    "        maxi = 0\n",
    "        for author in full:\n",
    "            if full[author] > maxi:\n",
    "                maxi = full[author]\n",
    "                maxa = author\n",
    "        return maxa\n",
    "    \n",
    "    def getAuthors(self) -> list:\n",
    "        return self.authors\n",
    "    \n",
    "#     def getAuthWB(self):\n",
    "#         return self.__authorsWB\n",
    "    \n",
    "#     def getFragDict(self):\n",
    "#         return self.__fragTokens\n",
    "\n",
    "#     def getTDM(self):\n",
    "#         return self.__fragTDM\n",
    "\n",
    "    def __init__(self, bookRelPath, lim) -> None:\n",
    "        self.__booksRelPath = bookRelPath\n",
    "        self.__authorsWB = dict()\n",
    "        self.__lim = lim\n",
    "\n",
    "        self.__buildAuthorsWB()\n",
    "        self.authors = list(self.__authorsWB.keys())\n"
   ]
  },
  {
   "cell_type": "markdown",
   "metadata": {},
   "source": [
    "## Następnie przechodzimy do klasyfikacji i testowania klasyfikatora"
   ]
  },
  {
   "cell_type": "markdown",
   "metadata": {},
   "source": [
    "Tworzymy klasifikator na podstawie, którego będziemy sprawdzać fragmenty tekstów."
   ]
  },
  {
   "cell_type": "code",
   "execution_count": 4,
   "metadata": {},
   "outputs": [],
   "source": [
    "K = TxtDocMatrixClassifier('..\\\\test_books\\\\romantyzm_books', 100)"
   ]
  },
  {
   "cell_type": "markdown",
   "metadata": {},
   "source": [
    "Zaczniemy od wyszukania słów w miarę oczywistych i charakterystycznych dla danego autora."
   ]
  },
  {
   "cell_type": "code",
   "execution_count": 15,
   "metadata": {},
   "outputs": [
    {
     "name": "stdout",
     "output_type": "stream",
     "text": [
      "{'adam-mickiewicz': 0, 'aleksander-dumas-ojciec': 0, 'aleksander-dumas-syn': 0, 'alfred-de-musset': 0, 'alojzy-felinski': 13, 'aloysius-bertrand': 0, 'antanas-baranauskas': 0, 'autor-nieznany': 0, 'charles-baudelaire': 1, 'cyprian-kamil-norwid': 2, 'deotyma': 0, 'e-t-a-hoffmann': 0, 'edgar-allan-poe': 0, 'francois-rene-de-chateaubriand': 13, 'george-gordon-byron': 0, 'hans-christian-andersen': 0, 'honore-de-balzac': 0, 'jacob-i-wilhelm-grimm': 0, 'johann-wolfgang-von-goethe': 25, 'juliusz-slowacki': 0, 'karol-boloz-antoniewicz': 3, 'konstanty-gaszynski': 0, 'marceli-skalkowski': 0, 'stanislaw-jachowicz': 4, 'theodore-de-banville': 0, 'wincenty-pol': 0}\n"
     ]
    }
   ],
   "source": [
    "#Framgent tesktu Coś ty atenom zrobił Sokratesie Norwida\n",
    "\n",
    "fragment = '''Więc mniejsza o to, w jakiej spoczniesz urnie,\n",
    "Gdzie, kiedy, w jakim sensie i obliczu,\n",
    "Bo grób twój jeszcze odemkną powtórnie,\n",
    "Inaczej będą głosić twe zasługi\n",
    "I łez wylanych dziś będą się wstydzić,\n",
    "A lać ci będą łzy potęgi drugiéj\n",
    "Ci, co człowiekiem nie mogli cię widziéć.'''\n",
    "print(K.classifyFullProb(fragment))"
   ]
  },
  {
   "cell_type": "code",
   "execution_count": 16,
   "metadata": {},
   "outputs": [
    {
     "name": "stdout",
     "output_type": "stream",
     "text": [
      "{'adam-mickiewicz': 120, 'aleksander-dumas-ojciec': 90, 'aleksander-dumas-syn': 0, 'alfred-de-musset': 0, 'alojzy-felinski': 0, 'aloysius-bertrand': 0, 'antanas-baranauskas': 0, 'autor-nieznany': 0, 'charles-baudelaire': 0, 'cyprian-kamil-norwid': 0, 'deotyma': 127, 'e-t-a-hoffmann': 0, 'edgar-allan-poe': 6, 'francois-rene-de-chateaubriand': 0, 'george-gordon-byron': 38, 'hans-christian-andersen': 66, 'honore-de-balzac': 310, 'jacob-i-wilhelm-grimm': 5, 'johann-wolfgang-von-goethe': 35, 'juliusz-slowacki': 0, 'karol-boloz-antoniewicz': 0, 'konstanty-gaszynski': 0, 'marceli-skalkowski': 0, 'stanislaw-jachowicz': 4, 'theodore-de-banville': 0, 'wincenty-pol': 1}\n"
     ]
    }
   ],
   "source": [
    "#Framgent tesktu Dziady Mickiewicza\n",
    "\n",
    "fragment = '''DZIADY. Jest to nazwisko uroczystości obchodzonej dotąd między pospólstwem w wielu powiatach Litwy, Prus i Kurlandii, na pamiątkę dziadów, czyli w ogólności zmarłych przodków. Uroczystość ta początkiem swoim zasięga czasów pogańskich i zwała się niegdyś ucztą kozła, na której przewodniczył Koźlarz, Huslar, Guślarz, razem kapłan i poeta (gęślarz).'''\n",
    "print(K.classifyFullProb(fragment))"
   ]
  },
  {
   "cell_type": "code",
   "execution_count": 17,
   "metadata": {},
   "outputs": [
    {
     "name": "stdout",
     "output_type": "stream",
     "text": [
      "{'adam-mickiewicz': 120, 'aleksander-dumas-ojciec': 90, 'aleksander-dumas-syn': 0, 'alfred-de-musset': 0, 'alojzy-felinski': 0, 'aloysius-bertrand': 0, 'antanas-baranauskas': 0, 'autor-nieznany': 0, 'charles-baudelaire': 0, 'cyprian-kamil-norwid': 0, 'deotyma': 127, 'e-t-a-hoffmann': 0, 'edgar-allan-poe': 6, 'francois-rene-de-chateaubriand': 0, 'george-gordon-byron': 38, 'hans-christian-andersen': 66, 'honore-de-balzac': 310, 'jacob-i-wilhelm-grimm': 5, 'johann-wolfgang-von-goethe': 35, 'juliusz-slowacki': 0, 'karol-boloz-antoniewicz': 0, 'konstanty-gaszynski': 0, 'marceli-skalkowski': 0, 'stanislaw-jachowicz': 4, 'theodore-de-banville': 0, 'wincenty-pol': 1}\n"
     ]
    }
   ],
   "source": [
    "#Framgent tesktu Panienka Z Okienka Deotyzma\n",
    "\n",
    "fragemnt = '''Panowie i panny widocznie byli zadowoleni ze swojej strojności, bo szli z piersią wydętą jak u pawia, zerkając na przyglądające im się tłumy. Ale pan Kazimierz patrzył obojętnie; podobnych strojów, mniej lub więcej wykwintnych, mógł co dzień widywać krocie; podobny orszak weselny to w ludnym Gdańsku nie nowina. Dopiero za szeregami panien dostrzegł coś takiego, co go naprawdę zadziwiło, coś tak nadzwyczajnego, że oparł obie ręce o czekanik, aby wspiąć się na palce i lepiej zobaczyć.'''\n",
    "print(K.classifyFullProb(fragment))"
   ]
  },
  {
   "cell_type": "code",
   "execution_count": 18,
   "metadata": {},
   "outputs": [
    {
     "name": "stdout",
     "output_type": "stream",
     "text": [
      "{'adam-mickiewicz': 83, 'aleksander-dumas-ojciec': 49, 'aleksander-dumas-syn': 52, 'alfred-de-musset': 0, 'alojzy-felinski': 3, 'aloysius-bertrand': 0, 'antanas-baranauskas': 0, 'autor-nieznany': 1, 'charles-baudelaire': 0, 'cyprian-kamil-norwid': 2, 'deotyma': 562, 'e-t-a-hoffmann': 0, 'edgar-allan-poe': 18, 'francois-rene-de-chateaubriand': 41, 'george-gordon-byron': 198, 'hans-christian-andersen': 517, 'honore-de-balzac': 316, 'jacob-i-wilhelm-grimm': 20, 'johann-wolfgang-von-goethe': 128, 'juliusz-slowacki': 209, 'karol-boloz-antoniewicz': 0, 'konstanty-gaszynski': 0, 'marceli-skalkowski': 1, 'stanislaw-jachowicz': 16, 'theodore-de-banville': 0, 'wincenty-pol': 0}\n"
     ]
    }
   ],
   "source": [
    "#Framgent tesktu Bak i Piłka Andersena\n",
    "\n",
    "fragment = '''Pewnego dnia chłopczyk wziął piłkę z pudełka. Bąk widział, jak wysoko wzleciała w powietrze, jak ptak prawdziwy; w końcu zniknęła mu z oczu gdzieś w górze. Potem spadła na dół, a ile razy dotknęła ziemi, wzlatywała znowu, nie wiadomo, czy z tęsknoty do jaskółki, czy dlatego, że miała korek hiszpański wewnątrz.'''\n",
    "print(K.classifyFullProb(fragment))"
   ]
  },
  {
   "cell_type": "markdown",
   "metadata": {},
   "source": [
    "### Wnioski"
   ]
  },
  {
   "cell_type": "markdown",
   "metadata": {},
   "source": [
    "W tych testach skupiliśmy się na działaniu klasyfikatora, jeżeli danymi testowymi były teksty z tej samej epoki u nas był to Romantyz. Taki test pokaże nam jak klasyfikacja działa w dosyć trudnych warunkach, ponieważ autorzy tej samej epoki, często posługują się podobnym językiem, składnią oraz tematyką. Dodatkowo jest ich całkem sporo w naszym folderze.  Po wykonaniu kilku sprawdzeń dla klasyfikatora możemy dojść do takich o to wniskówk:\n",
    "\n",
    "* Klasyfikator o dziwo poradził sobie całkiem dobrze, nie we wszystkich przypadkach dobrze sklasifikował tekst, ale dla większości dobrze wybrał autora. \n",
    "* Co istotne wyniki są często bardzo zbiliżone co świadczy, tak jak wspomniałem o podobnym słownictwie oraz stylu pisania\n",
    "* Mało było przypadków oczywsitych, gdzie jeden autor górował nad wszystkimi\n",
    "* Co ciekawe nawet we fragmencie z Dziadów w którym pojawiło się bardzo charakterytstyczne słowo \"DZIADY\", został sklasifikowany Deotyma zamiast Mickiewicza, chociaż różnica była bardzo nieduża."
   ]
  }
 ],
 "metadata": {
  "interpreter": {
   "hash": "f5b06153cd381b316087c2b284f95143ec60e76ac74c494d86ea6d4b0998e97d"
  },
  "kernelspec": {
   "display_name": "Python 3",
   "language": "python",
   "name": "python3"
  },
  "language_info": {
   "codemirror_mode": {
    "name": "ipython",
    "version": 3
   },
   "file_extension": ".py",
   "mimetype": "text/x-python",
   "name": "python",
   "nbconvert_exporter": "python",
   "pygments_lexer": "ipython3",
   "version": "3.8.8"
  }
 },
 "nbformat": 4,
 "nbformat_minor": 2
}

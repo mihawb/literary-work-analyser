{
 "cells": [
  {
   "cell_type": "markdown",
   "metadata": {},
   "source": [
    "## Testowanie działania klasyfikatorów na pisarzach starych czasów i współczesnych\n"
   ]
  },
  {
   "cell_type": "markdown",
   "metadata": {},
   "source": [
    "Importujemy potrzebne biblioteki"
   ]
  },
  {
   "cell_type": "code",
   "execution_count": 2,
   "metadata": {},
   "outputs": [],
   "source": [
    "import os, fnmatch\n",
    "import pandas as pd"
   ]
  },
  {
   "cell_type": "markdown",
   "metadata": {},
   "source": [
    "Dodajemy implementację potrzebnego klasyfikatora"
   ]
  },
  {
   "cell_type": "code",
   "execution_count": 3,
   "metadata": {},
   "outputs": [],
   "source": [
    "class TxtDocMatrixClassifier:\n",
    "    __unnecessary_chars = [\"!\",\",\",\".\",\"    \",\":\",\";\",\"?\",\"(\",\")\",\"—\",\"*\",\"»\",\"…\",\"«\",\"—\",\"-\",\"„\",\"”\",'\"',\"°\",\"'\"] \n",
    "    __stops = ['a', 'aby', 'ach', 'acz', 'aczkolwiek', 'aj', 'albo', 'ale', 'alez', 'ależ', 'ani', 'az', 'aż', 'bardziej', 'bardzo', 'beda', 'bedzie', 'bez', 'deda', 'będą', 'bede', 'będę', 'będzie', 'bo', 'bowiem', 'by', 'byc', 'być', 'byl', 'byla', 'byli', 'bylo', 'byly', 'był', 'była', 'było', 'były', 'bynajmniej', 'cala', 'cali', 'caly', 'cała', 'cały', 'ci', 'cie', 'ciebie', 'cię', 'co', 'cokolwiek', 'cos', 'coś', 'czasami', 'czasem', 'czemu', 'czy', 'czyli', 'daleko', 'dla', 'dlaczego', 'dlatego', 'do', 'dobrze', 'dokad', 'dokąd', 'dosc', 'dość', 'duzo', 'dużo', 'dwa', 'dwaj', 'dwie', 'dwoje', 'dzis', 'dzisiaj', 'dziś', 'gdy', 'gdyby', 'gdyz', 'gdyż', 'gdzie', 'gdziekolwiek', 'gdzies', 'gdzieś', 'go', 'i', 'ich', 'ile', 'im', 'inna', 'inne', 'inny', 'innych', 'iz', 'iż', 'ja', 'jak', 'jakas', 'jakaś', 'jakby', 'jaki', 'jakichs', 'jakichś', 'jakie', 'jakis', 'jakiś', 'jakiz', 'jakiż', 'jakkolwiek', 'jako', 'jakos', 'jakoś', 'ją', 'je', 'jeden', 'jedna', 'jednak', 'jednakze', 'jednakże', 'jedno', 'jego', 'jej', 'jemu', 'jesli', 'jest', 'jestem', 'jeszcze', 'jeśli', 'jezeli', 'jeżeli', 'juz', 'już', 'kazdy', 'każdy', 'kiedy', 'kilka', 'kims', 'kimś', 'kto', 'ktokolwiek', 'ktora', 'ktore', 'ktorego', 'ktorej', 'ktory', 'ktorych', 'ktorym', 'ktorzy', 'ktos', 'ktoś', 'która', 'które', 'którego', 'której', 'który', 'których', 'którym', 'którzy', 'ku', 'lat', 'lecz', 'lub', 'ma', 'mają', 'mało', 'mam', 'mi', 'miedzy', 'między', 'mimo', 'mna', 'mną', 'mnie', 'moga', 'mogą', 'moi', 'moim', 'moj', 'moja', 'moje', 'moze', 'mozliwe', 'mozna', 'może', 'możliwe', 'można', 'mój', 'mu', 'musi', 'my', 'na', 'nad', 'nam', 'nami', 'nas', 'nasi', 'nasz', 'nasza', 'nasze', 'naszego', 'naszych', 'natomiast', 'natychmiast', 'nawet', 'nia', 'nią', 'nic', 'nich', 'nie', 'niech', 'niego', 'niej', 'niemu', 'nigdy', 'nim', 'nimi', 'niz', 'niż', 'no', 'o', 'obok', 'od', 'około', 'on', 'ona', 'one', 'oni', 'ono', 'oraz', 'oto', 'owszem', 'pan', 'pana', 'pani', 'po', 'pod', 'podczas', 'pomimo', 'ponad', 'poniewaz', 'ponieważ', 'powinien', 'powinna', 'powinni', 'powinno', 'poza', 'prawie', 'przeciez', 'przecież', 'przed', 'przede', 'przedtem', 'przez', 'przy', 'roku', 'rowniez', 'również', 'sam', 'sama', 'są', 'sie', 'się', 'skad', 'skąd', 'soba', 'sobą', 'sobie', 'sposob', 'sposób', 'swoje', 'ta', 'tak', 'taka', 'taki', 'takie', 'takze', 'także', 'tam', 'te', 'tego', 'tej', 'ten', 'teraz', 'też', 'to', 'toba', 'tobą', 'tobie', 'totez', 'toteż', 'totobą', 'trzeba', 'tu', 'tutaj', 'twoi', 'twoim', 'twoj', 'twoja', 'twoje', 'twój', 'twym', 'ty', 'tych', 'tylko', 'tym', 'u', 'w', 'wam', 'wami', 'was', 'wasz', 'wasza', 'wasze', 'we', 'według', 'wiele', 'wielu', 'więc', 'więcej', 'wlasnie', 'właśnie', 'wszyscy', 'wszystkich', 'wszystkie', 'wszystkim', 'wszystko', 'wtedy', 'wy', 'z', 'za', 'zaden', 'zadna', 'zadne', 'zadnych', 'zapewne', 'zawsze', 'ze', 'zeby', 'zeznowu', 'zł', 'znow', 'znowu', 'znów', 'zostal', 'został', 'żaden', 'żadna', 'żadne', 'żadnych', 'że', 'żeby']\n",
    "\n",
    "    def __findBooksPaths(self) -> list:\n",
    "        result = []\n",
    "        for root, dirs, files in os.walk(self.__booksRelPath):\n",
    "            for name in files:\n",
    "                if fnmatch.fnmatch(name, '*_*.txt'):\n",
    "                    result.append(os.path.join(root, name))\n",
    "        return result \n",
    "\n",
    "    def __retrieveTokensFromBook(self, path) -> None:\n",
    "        usidx = path.index('_', len(self.__booksRelPath)+1)\n",
    "        author = path[len(self.__booksRelPath)+1:usidx]\n",
    "\n",
    "        self.__authorsWB[author] = self.__authorsWB.get(author, dict())\n",
    "        tokens_stop = []\n",
    "        tokens = []\n",
    "\n",
    "        with open(path, 'r', encoding='utf-8') as book:\n",
    "            for line in book:        \n",
    "                for char in self.__unnecessary_chars:\n",
    "                    line = line.replace(char, '')\n",
    "                line = line.rstrip().lower().split()\n",
    "\n",
    "                if line:\n",
    "                    tokens_stop.extend(line)\n",
    "\n",
    "        for ts in tokens_stop:\n",
    "            if not ts in self.__stops:\n",
    "                tokens.append(ts)\n",
    "\n",
    "        for word in sorted(tokens):\n",
    "            if word.isalpha():\n",
    "                self.__authorsWB[author][word] = self.__authorsWB[author].get(word, 0) + 1\n",
    "\n",
    "    def __truncateAuthorsWB(self) -> None:\n",
    "        for author in self.__authorsWB:\n",
    "            tempWB = dict(sorted(self.__authorsWB[author].items(), key=lambda x: x[1], reverse = True))\n",
    "            self.__authorsWB[author] = dict()\n",
    "\n",
    "            count = min(len(tempWB.keys()), self.__lim)\n",
    "            for token in tempWB:\n",
    "                self.__authorsWB[author][token] = tempWB[token]\n",
    "\n",
    "                if count < 0: break\n",
    "                count -= 1\n",
    "                \n",
    "    def __buildAuthorsWB(self) -> None:\n",
    "        paths = self.__findBooksPaths()\n",
    "        for p in paths:\n",
    "            self.__retrieveTokensFromBook(p)\n",
    "        self.__truncateAuthorsWB()\n",
    "\n",
    "    def __buildFragDict(self, frag) -> None:\n",
    "        frag = frag.replace('\\n', ' ')\n",
    "        for char in self.__unnecessary_chars:\n",
    "            frag = frag.replace(char, '')\n",
    "        frag = frag.strip().lower().split()\n",
    "\n",
    "        self.__fragTokens = dict()\n",
    "        for token in frag:\n",
    "            if token not in self.__stops:\n",
    "                self.__fragTokens[token] = self.__fragTokens.get(token, 0) + 1\n",
    "        self.__fragTokens = dict(sorted(self.__fragTokens.items(), key=lambda x: x[1], reverse = True))\n",
    "\n",
    "    def __buildTDMfromFrag(self) -> None:\n",
    "        self.__fragTDM = pd.DataFrame(columns=self.authors)\n",
    "        for ft in self.__fragTokens:\n",
    "            licznik = [0] * len(self.authors)\n",
    "            for i, author in enumerate(self.authors):\n",
    "                for token in self.__authorsWB[author]:\n",
    "                    if ft == token:\n",
    "                        licznik[i] += self.__authorsWB[author][token]\n",
    "            element = pd.DataFrame([licznik], columns=self.authors, index=[ft])\n",
    "            self.__fragTDM = self.__fragTDM.append(element)\n",
    "        \n",
    "    def classifyFullProb(self, frag) -> dict:\n",
    "        self.__buildFragDict(frag)\n",
    "        self.__buildTDMfromFrag()\n",
    "        \n",
    "        result = dict()\n",
    "        for i, el in enumerate(self.__fragTDM.sum()):\n",
    "            result[self.authors[i]] = el\n",
    "            \n",
    "        return result\n",
    "\n",
    "    def classify(self, frag) -> str:\n",
    "        full = self.classifyFullProb(frag)\n",
    "        maxa = \"\"\n",
    "        maxi = 0\n",
    "        for author in full:\n",
    "            if full[author] > maxi:\n",
    "                maxi = full[author]\n",
    "                maxa = author\n",
    "        return maxa\n",
    "    \n",
    "    def getAuthors(self) -> list:\n",
    "        return self.authors\n",
    "    \n",
    "#     def getAuthWB(self):\n",
    "#         return self.__authorsWB\n",
    "    \n",
    "#     def getFragDict(self):\n",
    "#         return self.__fragTokens\n",
    "\n",
    "#     def getTDM(self):\n",
    "#         return self.__fragTDM\n",
    "\n",
    "    def __init__(self, bookRelPath, lim) -> None:\n",
    "        self.__booksRelPath = bookRelPath\n",
    "        self.__authorsWB = dict()\n",
    "        self.__lim = lim\n",
    "\n",
    "        self.__buildAuthorsWB()\n",
    "        self.authors = list(self.__authorsWB.keys())\n"
   ]
  },
  {
   "cell_type": "markdown",
   "metadata": {},
   "source": [
    "## Następnie przechodzimy do klasyfikacji i testowania klasyfikatora"
   ]
  },
  {
   "cell_type": "markdown",
   "metadata": {},
   "source": [
    "Tworzymy klasifikator na podstawie, którego będziemy sprawdzać fragmenty tekstów."
   ]
  },
  {
   "cell_type": "code",
   "execution_count": 4,
   "metadata": {},
   "outputs": [],
   "source": [
    "K = TxtDocMatrixClassifier('..\\\\test_books\\\\orzeszkowa_kochanowski_books', 100)"
   ]
  },
  {
   "cell_type": "markdown",
   "metadata": {},
   "source": [
    "Zaczniemy od wyszukania słów w miarę oczywistych i charakterystycznych dla danego autora."
   ]
  },
  {
   "cell_type": "code",
   "execution_count": 5,
   "metadata": {},
   "outputs": [
    {
     "name": "stdout",
     "output_type": "stream",
     "text": [
      "{'eliza-orzeszkowa': 240, 'jan-kochanowski': 0}\n"
     ]
    }
   ],
   "source": [
    "#Framgent tesktu Cnotliwi Orzeszkowej\n",
    "\n",
    "fragment = '''Rzemiosło albo towar czynią sobie z cnoty,\n",
    "Zdobywając zaszczyty, wiarę, poważanie,\n",
    "Przez udane zapały i ócz przewracanie.\n",
    "Ci ludzie, którzy biegną z gorliwością rzadką,'''\n",
    "print(K.classifyFullProb(fragment))"
   ]
  },
  {
   "cell_type": "code",
   "execution_count": 6,
   "metadata": {},
   "outputs": [
    {
     "name": "stdout",
     "output_type": "stream",
     "text": [
      "{'eliza-orzeszkowa': 382, 'jan-kochanowski': 21}\n"
     ]
    }
   ],
   "source": [
    "#Framgent tesktu Dymy Orzeszkowej\n",
    "\n",
    "fragment = '''Nibyto jeszcze koniec lata, a niby początek jesieni. Kalendarz juliański mówi, że to ostatnie dni sierpnia, a gregoryański, że pierwsze września. Mniejsza o to. Kalendarze i podział czasu na miesiące — rzecz ludzka, a natura czyni swoje. Teraz uczyniła tak, że pierwszy rąbek wschodzącej jesieni nasuwa się na ostatni rąbek zachodzącego lata.'''\n",
    "print(K.classifyFullProb(fragment))"
   ]
  },
  {
   "cell_type": "code",
   "execution_count": 7,
   "metadata": {},
   "outputs": [
    {
     "name": "stdout",
     "output_type": "stream",
     "text": [
      "{'eliza-orzeszkowa': 1785, 'jan-kochanowski': 0}\n"
     ]
    }
   ],
   "source": [
    "#Framgent tesktu Gloria Victis Panna Roza Orzeszkowej\n",
    "\n",
    "fragment = '''Moja panno Różo, ja mam dwie siostry i nie powiem, abyśmy, razem u papy będąc, bardzo sobie życie nawzajem uprzyjemniały! Ja pannę Różę szanuję i w domu moim pani mieć będzie wszelkie wygody, ale próżnych słów nie lubię. Kochanie! Siostry! Po cóż to mówić, skoro my z panną Różą ani kochać się nie potrzebujemy, ani siostrami nie jesteśmy. Najlepiej żyć bez fikcji!'''\n",
    "print(K.classifyFullProb(fragment))"
   ]
  },
  {
   "cell_type": "code",
   "execution_count": 10,
   "metadata": {},
   "outputs": [
    {
     "name": "stdout",
     "output_type": "stream",
     "text": [
      "{'eliza-orzeszkowa': 0, 'jan-kochanowski': 27}\n"
     ]
    }
   ],
   "source": [
    "#Framgent tesktu Cnotliwi Orzeszkowej\n",
    "\n",
    "fragment = '''\n",
    "Fraszki tym książkom dzieją: kto się puści na nie\n",
    "Uszczypliwym językiem, za fraszką nie stanie.'''\n",
    "print(K.classifyFullProb(fragment))"
   ]
  },
  {
   "cell_type": "code",
   "execution_count": 11,
   "metadata": {},
   "outputs": [
    {
     "name": "stdout",
     "output_type": "stream",
     "text": [
      "{'eliza-orzeszkowa': 0, 'jan-kochanowski': 27}\n"
     ]
    }
   ],
   "source": [
    "#Framgent tesktu Cnotliwi Orzeszkowej\n",
    "\n",
    "fragment = '''\n",
    "Że krótkie fraszki czynię, to, Jakubie, winisz?\n",
    "Krótsze twoje nierówno, bo ich ty nie czynisz.'''\n",
    "print(K.classifyFullProb(fragment))"
   ]
  },
  {
   "cell_type": "markdown",
   "metadata": {},
   "source": [
    "### Wnioski"
   ]
  },
  {
   "cell_type": "markdown",
   "metadata": {},
   "source": [
    "W tych testach klasyfikatorem zbadaliśmy działanie klasyfikatora dla artystów z zupełnie innych epok. Dzielą ich setki lat, co na logikę sprawi, że klasyfikacja będzie działała bardzo dobrze. I tak też jest. Widzimy, że teksty poetów są bez wątpliwości przypisywane odpowiedniemy autorowi. Nie ma tutaj wyników zbliżonych tak jak to było przy Słowackim, Mickiewiczu i Sienkiewiczu. Takie wyniki wynikają przede wszystkim ze wspomnianej różnicy pokoleń. Inny język, inne problemy, inna tematyka. Taka różnorodnośc sprawia, że klasyfikator radzi sobie perfekcyjnie, niż by autorach żyjących w podobnych czasach."
   ]
  }
 ],
 "metadata": {
  "interpreter": {
   "hash": "f5b06153cd381b316087c2b284f95143ec60e76ac74c494d86ea6d4b0998e97d"
  },
  "kernelspec": {
   "display_name": "Python 3",
   "language": "python",
   "name": "python3"
  },
  "language_info": {
   "codemirror_mode": {
    "name": "ipython",
    "version": 3
   },
   "file_extension": ".py",
   "mimetype": "text/x-python",
   "name": "python",
   "nbconvert_exporter": "python",
   "pygments_lexer": "ipython3",
   "version": "3.8.8"
  }
 },
 "nbformat": 4,
 "nbformat_minor": 2
}

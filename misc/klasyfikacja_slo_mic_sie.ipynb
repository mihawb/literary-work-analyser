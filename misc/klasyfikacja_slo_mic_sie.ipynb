{
 "cells": [
  {
   "cell_type": "markdown",
   "metadata": {},
   "source": [
    "## Testowanie działania klasyfikatorów na trójce polskich pisarzy\n"
   ]
  },
  {
   "cell_type": "markdown",
   "metadata": {},
   "source": [
    "Importujemy potrzebne biblioteki"
   ]
  },
  {
   "cell_type": "code",
   "execution_count": 33,
   "metadata": {},
   "outputs": [],
   "source": [
    "import os, fnmatch\n",
    "import pandas as pd"
   ]
  },
  {
   "cell_type": "markdown",
   "metadata": {},
   "source": [
    "Dodajemy implementację potrzebnego klasyfikatora"
   ]
  },
  {
   "cell_type": "code",
   "execution_count": 34,
   "metadata": {},
   "outputs": [],
   "source": [
    "class TxtDocMatrixClassifier:\n",
    "    __unnecessary_chars = [\"!\",\",\",\".\",\"    \",\":\",\";\",\"?\",\"(\",\")\",\"—\",\"*\",\"»\",\"…\",\"«\",\"—\",\"-\",\"„\",\"”\",'\"',\"°\",\"'\"] \n",
    "    __stops = ['a', 'aby', 'ach', 'acz', 'aczkolwiek', 'aj', 'albo', 'ale', 'alez', 'ależ', 'ani', 'az', 'aż', 'bardziej', 'bardzo', 'beda', 'bedzie', 'bez', 'deda', 'będą', 'bede', 'będę', 'będzie', 'bo', 'bowiem', 'by', 'byc', 'być', 'byl', 'byla', 'byli', 'bylo', 'byly', 'był', 'była', 'było', 'były', 'bynajmniej', 'cala', 'cali', 'caly', 'cała', 'cały', 'ci', 'cie', 'ciebie', 'cię', 'co', 'cokolwiek', 'cos', 'coś', 'czasami', 'czasem', 'czemu', 'czy', 'czyli', 'daleko', 'dla', 'dlaczego', 'dlatego', 'do', 'dobrze', 'dokad', 'dokąd', 'dosc', 'dość', 'duzo', 'dużo', 'dwa', 'dwaj', 'dwie', 'dwoje', 'dzis', 'dzisiaj', 'dziś', 'gdy', 'gdyby', 'gdyz', 'gdyż', 'gdzie', 'gdziekolwiek', 'gdzies', 'gdzieś', 'go', 'i', 'ich', 'ile', 'im', 'inna', 'inne', 'inny', 'innych', 'iz', 'iż', 'ja', 'jak', 'jakas', 'jakaś', 'jakby', 'jaki', 'jakichs', 'jakichś', 'jakie', 'jakis', 'jakiś', 'jakiz', 'jakiż', 'jakkolwiek', 'jako', 'jakos', 'jakoś', 'ją', 'je', 'jeden', 'jedna', 'jednak', 'jednakze', 'jednakże', 'jedno', 'jego', 'jej', 'jemu', 'jesli', 'jest', 'jestem', 'jeszcze', 'jeśli', 'jezeli', 'jeżeli', 'juz', 'już', 'kazdy', 'każdy', 'kiedy', 'kilka', 'kims', 'kimś', 'kto', 'ktokolwiek', 'ktora', 'ktore', 'ktorego', 'ktorej', 'ktory', 'ktorych', 'ktorym', 'ktorzy', 'ktos', 'ktoś', 'która', 'które', 'którego', 'której', 'który', 'których', 'którym', 'którzy', 'ku', 'lat', 'lecz', 'lub', 'ma', 'mają', 'mało', 'mam', 'mi', 'miedzy', 'między', 'mimo', 'mna', 'mną', 'mnie', 'moga', 'mogą', 'moi', 'moim', 'moj', 'moja', 'moje', 'moze', 'mozliwe', 'mozna', 'może', 'możliwe', 'można', 'mój', 'mu', 'musi', 'my', 'na', 'nad', 'nam', 'nami', 'nas', 'nasi', 'nasz', 'nasza', 'nasze', 'naszego', 'naszych', 'natomiast', 'natychmiast', 'nawet', 'nia', 'nią', 'nic', 'nich', 'nie', 'niech', 'niego', 'niej', 'niemu', 'nigdy', 'nim', 'nimi', 'niz', 'niż', 'no', 'o', 'obok', 'od', 'około', 'on', 'ona', 'one', 'oni', 'ono', 'oraz', 'oto', 'owszem', 'pan', 'pana', 'pani', 'po', 'pod', 'podczas', 'pomimo', 'ponad', 'poniewaz', 'ponieważ', 'powinien', 'powinna', 'powinni', 'powinno', 'poza', 'prawie', 'przeciez', 'przecież', 'przed', 'przede', 'przedtem', 'przez', 'przy', 'roku', 'rowniez', 'również', 'sam', 'sama', 'są', 'sie', 'się', 'skad', 'skąd', 'soba', 'sobą', 'sobie', 'sposob', 'sposób', 'swoje', 'ta', 'tak', 'taka', 'taki', 'takie', 'takze', 'także', 'tam', 'te', 'tego', 'tej', 'ten', 'teraz', 'też', 'to', 'toba', 'tobą', 'tobie', 'totez', 'toteż', 'totobą', 'trzeba', 'tu', 'tutaj', 'twoi', 'twoim', 'twoj', 'twoja', 'twoje', 'twój', 'twym', 'ty', 'tych', 'tylko', 'tym', 'u', 'w', 'wam', 'wami', 'was', 'wasz', 'wasza', 'wasze', 'we', 'według', 'wiele', 'wielu', 'więc', 'więcej', 'wlasnie', 'właśnie', 'wszyscy', 'wszystkich', 'wszystkie', 'wszystkim', 'wszystko', 'wtedy', 'wy', 'z', 'za', 'zaden', 'zadna', 'zadne', 'zadnych', 'zapewne', 'zawsze', 'ze', 'zeby', 'zeznowu', 'zł', 'znow', 'znowu', 'znów', 'zostal', 'został', 'żaden', 'żadna', 'żadne', 'żadnych', 'że', 'żeby']\n",
    "\n",
    "    def __findBooksPaths(self) -> list:\n",
    "        result = []\n",
    "        for root, dirs, files in os.walk(self.__booksRelPath):\n",
    "            for name in files:\n",
    "                if fnmatch.fnmatch(name, '*_*.txt'):\n",
    "                    result.append(os.path.join(root, name))\n",
    "        return result \n",
    "\n",
    "    def __retrieveTokensFromBook(self, path) -> None:\n",
    "        usidx = path.index('_', len(self.__booksRelPath)+1)\n",
    "        author = path[len(self.__booksRelPath)+1:usidx]\n",
    "\n",
    "        self.__authorsWB[author] = self.__authorsWB.get(author, dict())\n",
    "        tokens_stop = []\n",
    "        tokens = []\n",
    "\n",
    "        with open(path, 'r', encoding='utf-8') as book:\n",
    "            for line in book:        \n",
    "                for char in self.__unnecessary_chars:\n",
    "                    line = line.replace(char, '')\n",
    "                line = line.rstrip().lower().split()\n",
    "\n",
    "                if line:\n",
    "                    tokens_stop.extend(line)\n",
    "\n",
    "        for ts in tokens_stop:\n",
    "            if not ts in self.__stops:\n",
    "                tokens.append(ts)\n",
    "\n",
    "        for word in sorted(tokens):\n",
    "            if word.isalpha():\n",
    "                self.__authorsWB[author][word] = self.__authorsWB[author].get(word, 0) + 1\n",
    "\n",
    "    def __truncateAuthorsWB(self) -> None:\n",
    "        for author in self.__authorsWB:\n",
    "            tempWB = dict(sorted(self.__authorsWB[author].items(), key=lambda x: x[1], reverse = True))\n",
    "            self.__authorsWB[author] = dict()\n",
    "\n",
    "            count = min(len(tempWB.keys()), self.__lim)\n",
    "            for token in tempWB:\n",
    "                self.__authorsWB[author][token] = tempWB[token]\n",
    "\n",
    "                if count < 0: break\n",
    "                count -= 1\n",
    "                \n",
    "    def __buildAuthorsWB(self) -> None:\n",
    "        paths = self.__findBooksPaths()\n",
    "        for p in paths:\n",
    "            self.__retrieveTokensFromBook(p)\n",
    "        self.__truncateAuthorsWB()\n",
    "\n",
    "    def __buildFragDict(self, frag) -> None:\n",
    "        frag = frag.replace('\\n', ' ')\n",
    "        for char in self.__unnecessary_chars:\n",
    "            frag = frag.replace(char, '')\n",
    "        frag = frag.strip().lower().split()\n",
    "\n",
    "        self.__fragTokens = dict()\n",
    "        for token in frag:\n",
    "            if token not in self.__stops:\n",
    "                self.__fragTokens[token] = self.__fragTokens.get(token, 0) + 1\n",
    "        self.__fragTokens = dict(sorted(self.__fragTokens.items(), key=lambda x: x[1], reverse = True))\n",
    "\n",
    "    def __buildTDMfromFrag(self) -> None:\n",
    "        self.__fragTDM = pd.DataFrame(columns=self.authors)\n",
    "        for ft in self.__fragTokens:\n",
    "            licznik = [0] * len(self.authors)\n",
    "            for i, author in enumerate(self.authors):\n",
    "                for token in self.__authorsWB[author]:\n",
    "                    if ft == token:\n",
    "                        licznik[i] += self.__authorsWB[author][token]\n",
    "            element = pd.DataFrame([licznik], columns=self.authors, index=[ft])\n",
    "            self.__fragTDM = self.__fragTDM.append(element)\n",
    "        \n",
    "    def classifyFullProb(self, frag) -> dict:\n",
    "        self.__buildFragDict(frag)\n",
    "        self.__buildTDMfromFrag()\n",
    "        \n",
    "        result = dict()\n",
    "        for i, el in enumerate(self.__fragTDM.sum()):\n",
    "            result[self.authors[i]] = el\n",
    "            \n",
    "        return result\n",
    "\n",
    "    def classify(self, frag) -> str:\n",
    "        full = self.classifyFullProb(frag)\n",
    "        maxa = \"\"\n",
    "        maxi = 0\n",
    "        for author in full:\n",
    "            if full[author] > maxi:\n",
    "                maxi = full[author]\n",
    "                maxa = author\n",
    "        return maxa\n",
    "    \n",
    "    def getAuthors(self) -> list:\n",
    "        return self.authors\n",
    "    \n",
    "#     def getAuthWB(self):\n",
    "#         return self.__authorsWB\n",
    "    \n",
    "#     def getFragDict(self):\n",
    "#         return self.__fragTokens\n",
    "\n",
    "#     def getTDM(self):\n",
    "#         return self.__fragTDM\n",
    "\n",
    "    def __init__(self, bookRelPath, lim) -> None:\n",
    "        self.__booksRelPath = bookRelPath\n",
    "        self.__authorsWB = dict()\n",
    "        self.__lim = lim\n",
    "\n",
    "        self.__buildAuthorsWB()\n",
    "        self.authors = list(self.__authorsWB.keys())\n"
   ]
  },
  {
   "cell_type": "markdown",
   "metadata": {},
   "source": [
    "## Następnie przechodzimy do klasyfikacji i testowania klasyfikatora"
   ]
  },
  {
   "cell_type": "markdown",
   "metadata": {},
   "source": [
    "Tworzymy klasifikator na podstawie, którego będziemy sprawdzać fragmenty tekstów."
   ]
  },
  {
   "cell_type": "code",
   "execution_count": 35,
   "metadata": {},
   "outputs": [],
   "source": [
    "K = TxtDocMatrixClassifier('..\\\\test_books\\\\mickiewicz_sienkiewicz_slowacki_books', 100)"
   ]
  },
  {
   "cell_type": "markdown",
   "metadata": {},
   "source": [
    "Zaczniemy od wyszukania słów w miarę oczywistych i charakterystycznych dla danego autora."
   ]
  },
  {
   "cell_type": "code",
   "execution_count": 36,
   "metadata": {},
   "outputs": [
    {
     "name": "stdout",
     "output_type": "stream",
     "text": [
      "{'adam-mickiewicz': 107, 'henryk-sienkiewicz': 0, 'juliusz-slowacki': 0}\n"
     ]
    }
   ],
   "source": [
    "fragment = 'Tadeusz'\n",
    "print(K.classifyFullProb(fragment))"
   ]
  },
  {
   "cell_type": "code",
   "execution_count": 37,
   "metadata": {},
   "outputs": [
    {
     "name": "stdout",
     "output_type": "stream",
     "text": [
      "{'adam-mickiewicz': 0, 'henryk-sienkiewicz': 0, 'juliusz-slowacki': 273}\n"
     ]
    }
   ],
   "source": [
    "fragment = 'Balladyna'\n",
    "print(K.classifyFullProb(fragment))"
   ]
  },
  {
   "cell_type": "code",
   "execution_count": 38,
   "metadata": {},
   "outputs": [
    {
     "name": "stdout",
     "output_type": "stream",
     "text": [
      "{'adam-mickiewicz': 0, 'henryk-sienkiewicz': 957, 'juliusz-slowacki': 0}\n"
     ]
    }
   ],
   "source": [
    "fragment = 'Zbyszko'\n",
    "print(K.classifyFullProb(fragment))"
   ]
  },
  {
   "cell_type": "markdown",
   "metadata": {},
   "source": [
    "Wyniki są póki co bardzo dobre, program bez problemu poradził sobie z klasyfikacją podanych fraz do odpowidnich autorów."
   ]
  },
  {
   "cell_type": "markdown",
   "metadata": {},
   "source": [
    "Teraz sprawdźmy nasz klasyfikator dla całych zdań wyjętych z książek."
   ]
  },
  {
   "cell_type": "code",
   "execution_count": 40,
   "metadata": {},
   "outputs": [
    {
     "name": "stdout",
     "output_type": "stream",
     "text": [
      "{'adam-mickiewicz': 0, 'henryk-sienkiewicz': 631, 'juliusz-slowacki': 0}\n"
     ]
    }
   ],
   "source": [
    "#Fragment książki W Pustyni i w Puszczy Sienkiewicza\n",
    "fragment = 'Staś, który kończył rok czternasty i który swą ośmioletnią towarzyszkę kochał bardzo'\n",
    "print(K.classifyFullProb(fragment))"
   ]
  },
  {
   "cell_type": "code",
   "execution_count": 41,
   "metadata": {},
   "outputs": [
    {
     "name": "stdout",
     "output_type": "stream",
     "text": [
      "{'adam-mickiewicz': 168, 'henryk-sienkiewicz': 1228, 'juliusz-slowacki': 42}\n"
     ]
    }
   ],
   "source": [
    "#Fragment książki Krzyżacy Sienkiewicza\n",
    "fragment = 'Jurand, znalazłszy się na podwórzu zamkowym, nie wiedział zrazu, dokąd iść, gdyż knecht, który go przeprowadził przez bramę, opuścił go i udał się ku stajniom. Przy blankach stali wprawdzie żołdacy, to pojedynczo, to po kilku razem, ale twarze ich były tak zuchwałe, a spojrzenia tak szydercze, iż łatwo było rycerzowi odgadnąć, że mu drogi nie wskażą, a jeżeli na pytanie odpowiedzą, to chyba grubiaństwem lub zniewagą. Niektórzy śmieli się, pokazując go sobie palcami; inni poczęli nań znów miotać śniegiem, tak samo jak dnia wczorajszego. Lecz on, spostrzegłszy drzwi większe od innych, nad którymi wykuty był w kamieniu Chrystus na krzyżu, udał się ku nim w mniemaniu, że jeśli komtur i starszyzna znajdują się w innej części zamku lub w innych izbach, to go ktoś przecie musi z błędnej drogi nawrócić.'\n",
    "print(K.classifyFullProb(fragment))"
   ]
  },
  {
   "cell_type": "code",
   "execution_count": 42,
   "metadata": {},
   "outputs": [
    {
     "name": "stdout",
     "output_type": "stream",
     "text": [
      "{'adam-mickiewicz': 88, 'henryk-sienkiewicz': 336, 'juliusz-slowacki': 71}\n"
     ]
    }
   ],
   "source": [
    "#Fragment książki Balladyna Słowackiego\n",
    "fragment = '''Ty wiesz, jak nasza ziemia wszeteczeństwem\n",
    "Króla skalana. Wiesz, jak Popiel krwawy\n",
    "Pastwi się coraz nowym okrucieństwem…\n",
    "Zaczerwienione krwią widziałem stawy:\n",
    "Król żywi karpie ciałem niewolników.\n",
    "Nieraz wybiera dziesiątego z szyków\n",
    "I tnąc w kawały, ulubionym rybom\n",
    "Na żer wyrzuca; resztę ciał wymiata'''\n",
    "\n",
    "print(K.classifyFullProb(fragment))"
   ]
  },
  {
   "cell_type": "code",
   "execution_count": 43,
   "metadata": {},
   "outputs": [
    {
     "name": "stdout",
     "output_type": "stream",
     "text": [
      "{'adam-mickiewicz': 0, 'henryk-sienkiewicz': 0, 'juliusz-slowacki': 113}\n"
     ]
    }
   ],
   "source": [
    "#Fragment książki Balladyna Słowackiego\n",
    "fragment = '''Nim Kirkor w przepaść okropną się rzuci\n",
    "Szukając zemsty — chcę — chciałbym cię badać,\n",
    "Na jakim pieńku zaszczepić rodowe\n",
    "Drzewo Kirkorów, aby kiedyś nowe'''\n",
    "\n",
    "print(K.classifyFullProb(fragment))"
   ]
  },
  {
   "cell_type": "markdown",
   "metadata": {},
   "source": [
    "Teraz staramy się zklasyfikować losowe zdania z współczesnego świata"
   ]
  },
  {
   "cell_type": "code",
   "execution_count": 44,
   "metadata": {},
   "outputs": [
    {
     "name": "stdout",
     "output_type": "stream",
     "text": [
      "{'adam-mickiewicz': 0, 'henryk-sienkiewicz': 0, 'juliusz-slowacki': 0}\n"
     ]
    }
   ],
   "source": [
    "#Fragment wiersza Lokomytwa Tuwima\n",
    "fragment = '''Stoi na stacji lokomotywa,\n",
    "Ciężka, ogromna i pot z niej spływa:\n",
    "Tłusta oliwa.\n",
    "Stoi i sapie, dyszy i dmucha'''\n",
    "\n",
    "print(K.classifyFullProb(fragment))"
   ]
  },
  {
   "cell_type": "code",
   "execution_count": 45,
   "metadata": {},
   "outputs": [
    {
     "name": "stdout",
     "output_type": "stream",
     "text": [
      "{'adam-mickiewicz': 207, 'henryk-sienkiewicz': 1215, 'juliusz-slowacki': 103}\n"
     ]
    }
   ],
   "source": [
    "#Fragment książki Władcza Pierścieni Tolkiena\n",
    "fragment = '''Gandalf rozmyślał o wiośnie sprzed prawie osiemdziesięciu lat, kiedy to Bilbo wybiegł z Bag End bez chusteczki do nosa. On sam miał teraz włosy chyba bielsze niż wówczas, brodę dłuższą i brwi bardziej krzaczaste, twarz pobrużdżoną od doznanych przeżyć, ale oczy żywe jak zawsze. Kurzył fajeczkę i wydmuchiwał kółka dymu z tym samym co dawniej zadowoleniem.'''\n",
    "\n",
    "print(K.classifyFullProb(fragment))"
   ]
  },
  {
   "cell_type": "code",
   "execution_count": 46,
   "metadata": {},
   "outputs": [
    {
     "name": "stdout",
     "output_type": "stream",
     "text": [
      "{'adam-mickiewicz': 45, 'henryk-sienkiewicz': 0, 'juliusz-slowacki': 41}\n"
     ]
    }
   ],
   "source": [
    "#Fragment filmu Forrest Gump\n",
    "fragment = '''Moja mama zawsze mówiła: „Życie jest jak pudełko czekoladek. Nigdy nie wiesz, co ci się trafi.”'''\n",
    "print(K.classifyFullProb(fragment))"
   ]
  },
  {
   "cell_type": "markdown",
   "metadata": {},
   "source": [
    "### Wnioski"
   ]
  },
  {
   "cell_type": "markdown",
   "metadata": {},
   "source": [
    "Patrząć na wyniki możemy dojść do naprawdę ciekawych obserwacji:\n",
    "\n",
    "* Dla słow kluczowych np. imion głównych, lub drugoplanowych bohaterów książek klasyfikacja przebiega bardzo dobrze i prawidłowo wykrywa odpowiedniego autora. Dodatkowo klasyfikacja jest oczywista, praktycznie \n",
    "inni autorzy nie są nawet trochę podobni\n",
    "* Wkładająć zdania z książek, też mamy w większości przypadków prawidłową klasyfikację, wyjątkiem jest jeden z fragmentów Balladyny, który został myli zklasyfikowany do Sienkiewicza, jest to prawdopodobnie spowodowane tym, że dany fragment nie była zbytnio charakterystyczny dla Balladyny a słowa, które wypowiadał były uniwersale np. dla tekstów sienkiewicza. Dodatkowo warto zauważyć, że teksty Sienkiewicza są bardzo\n",
    "długie np. Krzyżacy, Potop — z tego też powodu znajdziemy tam ogromą gammę styłów, czasów i wypowiedzi bohaterów co mogło po prostu przyćmić tekst Balladyny\n",
    "* Warto zauważyć, że dla innego fragmentu Balladyny w którym pojawia się \"Kirkor\" klasyfikacja przebiegła bardzo pomyślnie.\n",
    "* Jeżeli chodzi o wykrywanie fragmentów z innych dzieł, również i współczesnych tutaj sytuacja jest bardzo różna. Mamy przypadki takie jak z \"Lokomotywą\" gdzie nie znaleźliśmy żadnego powiąznia, a mamy sytuację z fragmentem książki \"Władca Pierścieni\", gdzie powiązanie z Sienkiewiczem jest bardzo duże."
   ]
  },
  {
   "cell_type": "markdown",
   "metadata": {},
   "source": [
    "Podsumowując, możemy stwierdzić, że klasyfikator działa poprawnie, jednak warto używać fragmentu, który jest w miarę charakterystyczny dla danego autora, szczególnie jeżeli mamy 3 autorów żyjących mnie więcej w tym samym czasie."
   ]
  }
 ],
 "metadata": {
  "interpreter": {
   "hash": "f5b06153cd381b316087c2b284f95143ec60e76ac74c494d86ea6d4b0998e97d"
  },
  "kernelspec": {
   "display_name": "Python 3.9.10 64-bit (windows store)",
   "language": "python",
   "name": "python3"
  },
  "language_info": {
   "codemirror_mode": {
    "name": "ipython",
    "version": 3
   },
   "file_extension": ".py",
   "mimetype": "text/x-python",
   "name": "python",
   "nbconvert_exporter": "python",
   "pygments_lexer": "ipython3",
   "version": "3.9.10"
  },
  "orig_nbformat": 4
 },
 "nbformat": 4,
 "nbformat_minor": 2
}

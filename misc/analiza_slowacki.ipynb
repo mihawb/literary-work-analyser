{
 "cells": [
  {
   "cell_type": "markdown",
   "id": "bdaf6f4d",
   "metadata": {},
   "source": [
    "# Prosta analiza tekstów Juliusza Słowackiego"
   ]
  },
  {
   "cell_type": "code",
   "execution_count": 12,
   "id": "9ac4a384",
   "metadata": {},
   "outputs": [],
   "source": [
    "import os, fnmatch\n",
    "import numpy as np\n",
    "import pandas as pd\n",
    "import seaborn as sns\n",
    "import matplotlib.pyplot as plt\n",
    "from sklearn.feature_extraction.text import CountVectorizer\n",
    "# zmiana sposobu wyświetlania danych typu float\n",
    "pd.options.display.float_format = \"{:.3f}\".format "
   ]
  },
  {
   "cell_type": "markdown",
   "id": "b7c33beb",
   "metadata": {},
   "source": [
    "#### Utilities"
   ]
  },
  {
   "cell_type": "code",
   "execution_count": 13,
   "id": "65fc7667",
   "metadata": {},
   "outputs": [],
   "source": [
    "stops = []\n",
    "limiters = [\"\\\\n\", \"'\"]\n",
    "with open('stopyPL.txt', encoding='utf-8') as sf:\n",
    "    for sline in sf:\n",
    "        sline = repr(sline)\n",
    "        for char in limiters:\n",
    "            sline = sline.replace(char,\"\")\n",
    "        if not(sline == \"\"):\n",
    "            stops.append(sline)\n",
    "            \n",
    "unnecessary_chars = [\"!\",\",\",\".\",\"    \",\":\",\";\",\"?\",\"(\",\")\",\"—\",\"*\",\"»\",\"…\",\"«\",\"—\",'-','„','”','\"','°']"
   ]
  },
  {
   "cell_type": "markdown",
   "id": "b7fc1b82",
   "metadata": {},
   "source": [
    "#### Wybieranie z katalogu wszystkich książek danego autora"
   ]
  },
  {
   "cell_type": "code",
   "execution_count": 14,
   "id": "97d2401e",
   "metadata": {},
   "outputs": [
    {
     "name": "stdout",
     "output_type": "stream",
     "text": [
      "Parsing check: is the return value a list of valid paths? True\n"
     ]
    },
    {
     "data": {
      "text/plain": [
       "['..\\\\test_books\\\\slowacki_books\\\\juliusz-slowacki_a-jednak-ja-nie-watpie-bo-sie-pora-zbliza.txt',\n",
       " '..\\\\test_books\\\\slowacki_books\\\\juliusz-slowacki_aniol-ognisty-moj-aniol-lewy.txt',\n",
       " '..\\\\test_books\\\\slowacki_books\\\\juliusz-slowacki_balladyna.txt',\n",
       " '..\\\\test_books\\\\slowacki_books\\\\juliusz-slowacki_do-matki-w-ciemnosciach-postac-mi-stoi-matczyna.txt',\n",
       " '..\\\\test_books\\\\slowacki_books\\\\juliusz-slowacki_do-matki.txt',\n",
       " '..\\\\test_books\\\\slowacki_books\\\\juliusz-slowacki_do-pani-joanny-bobrowej.txt',\n",
       " '..\\\\test_books\\\\slowacki_books\\\\juliusz-slowacki_do-pastereczki-siedzacej-na-druidow-kamieniach-w-pornic-nad-oceanem.txt',\n",
       " '..\\\\test_books\\\\slowacki_books\\\\juliusz-slowacki_do-teofila-januszewskiego.txt',\n",
       " '..\\\\test_books\\\\slowacki_books\\\\juliusz-slowacki_do-zygmunta.txt',\n",
       " '..\\\\test_books\\\\slowacki_books\\\\juliusz-slowacki_duma-o-waclawie-rzewuskim.txt',\n",
       " '..\\\\test_books\\\\slowacki_books\\\\juliusz-slowacki_dusza-sie-moja-zamysla-gleboko.txt',\n",
       " '..\\\\test_books\\\\slowacki_books\\\\juliusz-slowacki_gdy-noc-gleboka-wszystko-uspi-i-oniemi.txt',\n",
       " '..\\\\test_books\\\\slowacki_books\\\\juliusz-slowacki_godzina-mysli.txt',\n",
       " '..\\\\test_books\\\\slowacki_books\\\\juliusz-slowacki_grob-agamemnona.txt',\n",
       " '..\\\\test_books\\\\slowacki_books\\\\juliusz-slowacki_hymn-bogarodzico-dziewico.txt',\n",
       " '..\\\\test_books\\\\slowacki_books\\\\juliusz-slowacki_hymn-o-zachodzie-slonca-na-morzu.txt',\n",
       " '..\\\\test_books\\\\slowacki_books\\\\juliusz-slowacki_i-wstal-anhelli-z-grobu-za-nim-wszystkie-duchy.txt',\n",
       " '..\\\\test_books\\\\slowacki_books\\\\juliusz-slowacki_jan-bielecki.txt',\n",
       " '..\\\\test_books\\\\slowacki_books\\\\juliusz-slowacki_jezeli-ci-pan-nie-zbuduje-domu.txt',\n",
       " '..\\\\test_books\\\\slowacki_books\\\\juliusz-slowacki_kiedy-prawdziwie-polacy-powstana.txt',\n",
       " '..\\\\test_books\\\\slowacki_books\\\\juliusz-slowacki_kordian.txt',\n",
       " '..\\\\test_books\\\\slowacki_books\\\\juliusz-slowacki_oda-do-wolnosci.txt']"
      ]
     },
     "execution_count": 14,
     "metadata": {},
     "output_type": "execute_result"
    }
   ],
   "source": [
    "def findAllBooks(author, path):\n",
    "    result = []\n",
    "    for root, dirs, files in os.walk(path):\n",
    "        for name in files:\n",
    "            if fnmatch.fnmatch(name, author + '_*.txt'):\n",
    "                result.append(os.path.join(root, name))\n",
    "    return result\n",
    "\n",
    "testauthor = 'juliusz-slowacki'\n",
    "testbooklist = findAllBooks(testauthor, '..\\\\test_books\\\\slowacki_books')\n",
    "print('Parsing check: is the return value a list of valid paths?', os.path.isfile(testbooklist[0]))\n",
    "\n",
    "testbooklist"
   ]
  },
  {
   "cell_type": "markdown",
   "id": "3ed7874a",
   "metadata": {},
   "source": [
    "Pokazywanie słownika z progiem"
   ]
  },
  {
   "cell_type": "code",
   "execution_count": 15,
   "id": "2359736c",
   "metadata": {},
   "outputs": [],
   "source": [
    "def pokaz_czeste(slownik,prog):\n",
    "    for klucz,wartosc in slownik.items():\n",
    "        if wartosc>prog:\n",
    "            print(klucz,\":\",wartosc)"
   ]
  },
  {
   "cell_type": "markdown",
   "id": "e9e20908",
   "metadata": {},
   "source": [
    "Pokazywanie słownika z zakresem"
   ]
  },
  {
   "cell_type": "code",
   "execution_count": 16,
   "id": "74e33f93",
   "metadata": {},
   "outputs": [],
   "source": [
    "def pokaz_slownik(slownik,zakres):\n",
    "    dlugosc = len(slownik)\n",
    "    if zakres[0]<0: zakres[0]=0\n",
    "    if zakres[1]>dlugosc: zakres[1]=dlugosc\n",
    "    if zakres[1]>zakres[0]:\n",
    "        i = 0\n",
    "        for klucz,wartosc in slownik.items():\n",
    "            if i>=zakres[0] and i<zakres[1]:\n",
    "                print(klucz,\":\",wartosc)\n",
    "            i = i+1"
   ]
  },
  {
   "cell_type": "markdown",
   "id": "49a9f68e",
   "metadata": {},
   "source": [
    "#### Tworzenie tokenów, usuwanie stop-słów, tworzenie słownika ilości wszystkich tokenów "
   ]
  },
  {
   "cell_type": "markdown",
   "id": "30acf48f",
   "metadata": {},
   "source": [
    "Tworzymy słownik dla 50 wczytanych utworów Juliusza Słowackiego i liczymy częstość dla każdego słowa."
   ]
  },
  {
   "cell_type": "code",
   "execution_count": 17,
   "id": "78592a11",
   "metadata": {},
   "outputs": [],
   "source": [
    "tokens_stop = []\n",
    "for pathToBook in testbooklist:\n",
    "    with open(pathToBook, 'r', encoding='utf-8') as book:\n",
    "        for line in book:        \n",
    "            for char in unnecessary_chars:\n",
    "                line = line.replace(char, '')\n",
    "            line = line.rstrip().lower().split()\n",
    "            \n",
    "            if line:\n",
    "                tokens_stop.extend(line)\n",
    "                \n",
    "    tokens = []\n",
    "    for ts in tokens_stop:\n",
    "        if not ts in stops:\n",
    "            tokens.append(ts)\n",
    "            \n",
    "    dictionary = dict()\n",
    "    for word in sorted(tokens):\n",
    "        if word.isalpha():\n",
    "            dictionary[word] = dictionary.get(word, 0) + 1"
   ]
  },
  {
   "cell_type": "markdown",
   "id": "dc8bb132",
   "metadata": {},
   "source": [
    "Najczęściej występujące słowa"
   ]
  },
  {
   "cell_type": "code",
   "execution_count": 18,
   "id": "c2cea112",
   "metadata": {},
   "outputs": [
    {
     "name": "stdout",
     "output_type": "stream",
     "text": [
      "balladyna : 273\n",
      "kordian : 176\n",
      "kirkor : 113\n",
      "grabiec : 109\n",
      "goplana : 104\n",
      "wdowa : 103\n",
      "kostryn : 91\n",
      "pustelnik : 86\n",
      "mię : 73\n",
      "niechaj : 72\n",
      "skierka : 71\n",
      "boga : 69\n",
      "ludu : 66\n",
      "boże : 64\n",
      "wielki : 63\n",
      "bóg : 62\n",
      "potem : 62\n",
      "serce : 62\n",
      "cha : 61\n",
      "oczy : 60\n"
     ]
    }
   ],
   "source": [
    "po_czestosci = dict(sorted(dictionary.items(), key=lambda x: x[1], reverse = True))\n",
    "pokaz_slownik(po_czestosci,[0,20])"
   ]
  },
  {
   "cell_type": "markdown",
   "id": "599c35bb",
   "metadata": {},
   "source": [
    "Nadłuższe słowa"
   ]
  },
  {
   "cell_type": "code",
   "execution_count": 19,
   "id": "c2e89d71",
   "metadata": {},
   "outputs": [
    {
     "name": "stdout",
     "output_type": "stream",
     "text": [
      "czterdziestogodzinne : 1\n",
      "nieprzewidzianych : 1\n",
      "niesprawiedliwość : 1\n",
      "szczodrobliwością : 1\n",
      "zmartwychwstaniem : 1\n",
      "zmartwychwstałego : 1\n",
      "śnieżystobłękitne : 1\n",
      "dwudziestoletnie : 1\n",
      "niecierpliwością : 1\n",
      "niedoścignionych : 1\n",
      "nieskończonością : 1\n",
      "przedzierżgniono : 1\n",
      "zmartwychwstania : 4\n",
      "zmartwychwstanie : 2\n",
      "światotworzącymi : 1\n",
      "czarnoksiężnica : 1\n",
      "czarnoksiężnika : 1\n",
      "czarodziejskich : 1\n",
      "konferencyjnego : 2\n",
      "nadprzyrodzonej : 1\n"
     ]
    }
   ],
   "source": [
    "po_dlugosci = dict(sorted(dictionary.items(), key=lambda x: len(x[0]), reverse = True ))\n",
    "pokaz_slownik(po_dlugosci,[0,20])"
   ]
  },
  {
   "cell_type": "markdown",
   "id": "21052b67",
   "metadata": {},
   "source": [
    "Liczba unikalnych tokenów"
   ]
  },
  {
   "cell_type": "code",
   "execution_count": 20,
   "id": "ea787710",
   "metadata": {},
   "outputs": [
    {
     "data": {
      "text/plain": [
       "14207"
      ]
     },
     "execution_count": 20,
     "metadata": {},
     "output_type": "execute_result"
    }
   ],
   "source": [
    "len(dictionary)"
   ]
  }
 ],
 "metadata": {
  "kernelspec": {
   "display_name": "Python 3",
   "language": "python",
   "name": "python3"
  },
  "language_info": {
   "codemirror_mode": {
    "name": "ipython",
    "version": 3
   },
   "file_extension": ".py",
   "mimetype": "text/x-python",
   "name": "python",
   "nbconvert_exporter": "python",
   "pygments_lexer": "ipython3",
   "version": "3.8.8"
  }
 },
 "nbformat": 4,
 "nbformat_minor": 5
}

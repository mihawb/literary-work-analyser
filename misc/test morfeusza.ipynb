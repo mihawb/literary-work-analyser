{
 "cells": [
  {
   "cell_type": "code",
   "execution_count": 13,
   "id": "a22bf2ac",
   "metadata": {},
   "outputs": [
    {
     "name": "stdout",
     "output_type": "stream",
     "text": [
      "[('pieczarka', 'pieczarka', 'subst:sg:nom:f', ['nazwa_pospolita'], ['mikol.']), ('pieczarki', 'pieczarka', 'subst:sg:gen:f', ['nazwa_pospolita'], ['mikol.']), ('pieczarce', 'pieczarka', 'subst:sg:dat.loc:f', ['nazwa_pospolita'], ['mikol.']), ('pieczarkę', 'pieczarka', 'subst:sg:acc:f', ['nazwa_pospolita'], ['mikol.']), ('pieczarką', 'pieczarka', 'subst:sg:inst:f', ['nazwa_pospolita'], ['mikol.']), ('pieczarko', 'pieczarka', 'subst:sg:voc:f', ['nazwa_pospolita'], ['mikol.']), ('pieczarki', 'pieczarka', 'subst:pl:nom.acc.voc:f', ['nazwa_pospolita'], ['mikol.']), ('pieczarek', 'pieczarka', 'subst:pl:gen:f', ['nazwa_pospolita'], ['mikol.']), ('pieczarkom', 'pieczarka', 'subst:pl:dat:f', ['nazwa_pospolita'], ['mikol.']), ('pieczarkami', 'pieczarka', 'subst:pl:inst:f', ['nazwa_pospolita'], ['mikol.']), ('pieczarkach', 'pieczarka', 'subst:pl:loc:f', ['nazwa_pospolita'], ['mikol.'])]\n"
     ]
    }
   ],
   "source": [
    "import morfeusz2\n",
    "morf = morfeusz2.Morfeusz()\n",
    "\n",
    "# inputstring = 'Coś zrobił?'\n",
    "\n",
    "# analysis = morf.analyse(inputstring)\n",
    "# for i, j, interp in analysis:\n",
    "#     print(i, j, interp\n",
    "\n",
    "synthesis = morf.generate(u'pieczarka')\n",
    "print(synthesis)"
   ]
  }
 ],
 "metadata": {
  "kernelspec": {
   "display_name": "Python 3",
   "language": "python",
   "name": "python3"
  },
  "language_info": {
   "codemirror_mode": {
    "name": "ipython",
    "version": 3
   },
   "file_extension": ".py",
   "mimetype": "text/x-python",
   "name": "python",
   "nbconvert_exporter": "python",
   "pygments_lexer": "ipython3",
   "version": "3.8.8"
  }
 },
 "nbformat": 4,
 "nbformat_minor": 5
}

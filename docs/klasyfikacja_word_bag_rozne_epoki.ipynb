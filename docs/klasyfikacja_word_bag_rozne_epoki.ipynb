{
 "cells": [
  {
   "cell_type": "markdown",
   "metadata": {},
   "source": [
    "### Klasyfikacja autorów z różnych epok w historii"
   ]
  },
  {
   "cell_type": "markdown",
   "metadata": {},
   "source": [
    "W tym teście sprawdzimy jak radzi sobie klasyfikator, jeśli jako teksty damy mu autorów z zupełnie inncyh epok. Z założenia powinien poradzić sobie dobrze, jako że inne epoki charakteryzują się zazwyczaj innym słownictwem i podobieństw powinno być stosunkowo mało."
   ]
  },
  {
   "cell_type": "markdown",
   "metadata": {},
   "source": [
    "Importujemy potrzebne biblioteki"
   ]
  },
  {
   "cell_type": "code",
   "execution_count": 9,
   "metadata": {},
   "outputs": [],
   "source": [
    "import os, fnmatch\n",
    "import sys\n",
    "sys.path.insert(1, '..')\n",
    "from src.authorwordbag import WordBagOfAuthorClassifier"
   ]
  },
  {
   "cell_type": "markdown",
   "metadata": {},
   "source": [
    "### Przechodzimy teraz do sprawdzania klasyfikatora bazującego na worku słów\n"
   ]
  },
  {
   "cell_type": "code",
   "execution_count": 10,
   "metadata": {},
   "outputs": [],
   "source": [
    "K = WordBagOfAuthorClassifier('..\\\\test_books\\\\rozne_epoki_books', 150)"
   ]
  },
  {
   "cell_type": "markdown",
   "metadata": {},
   "source": [
    "Zacznijmy od znajezienia autora **Starożytnego**"
   ]
  },
  {
   "cell_type": "code",
   "execution_count": 11,
   "metadata": {},
   "outputs": [
    {
     "name": "stdout",
     "output_type": "stream",
     "text": [
      "{'dante-alighieri': 0.0, 'hans-christian-andersen': 0.0, 'horacy': 9.0, 'ignacy-krasicki': 0.0, 'mikolaj-sep-szarzynski': 0.0}\n",
      "horacy\n"
     ]
    }
   ],
   "source": [
    "#Fragment Do Chloe Horacego\n",
    "\n",
    "fragment = '''Do jelonki podobna, która strachliwej matki\n",
    "tam po górach bezdrożnych szuka, przejęta marnym\n",
    "    strachem lasów i wiatrów,\n",
    "    ty przede mną, o Chloe, uciekasz;'''\n",
    "print(K.classifyFullProb(fragment))\n",
    "print(K.classify(fragment))"
   ]
  },
  {
   "cell_type": "markdown",
   "metadata": {},
   "source": [
    "Teraz zobaczmy autora **Średniowiecznego**"
   ]
  },
  {
   "cell_type": "code",
   "execution_count": 12,
   "metadata": {},
   "outputs": [
    {
     "name": "stdout",
     "output_type": "stream",
     "text": [
      "{'dante-alighieri': 5.04907306434024, 'hans-christian-andersen': 1.1300822994718094, 'horacy': 0.0, 'ignacy-krasicki': 0.7092198581560284, 'mikolaj-sep-szarzynski': 0.0}\n",
      "dante-alighieri\n"
     ]
    }
   ],
   "source": [
    "#Fragment Boska Komedia Dantego\n",
    "\n",
    "fragment = '''Cześć, chwała Tego, który świat porusza,\n",
    "Nierówny rzuca blask w kole stworzenia;\n",
    "Byłem ja w niebie, gdzie się rozpromienia\n",
    "Blask ten najwięcej i widziałem rzeczy,\n",
    "Których kto schodzi stamtąd nie powiada'''\n",
    "print(K.classifyFullProb(fragment))\n",
    "print(K.classify(fragment))"
   ]
  },
  {
   "cell_type": "markdown",
   "metadata": {},
   "source": [
    "**Barok**"
   ]
  },
  {
   "cell_type": "code",
   "execution_count": 13,
   "metadata": {},
   "outputs": [
    {
     "name": "stdout",
     "output_type": "stream",
     "text": [
      "{'dante-alighieri': 0.0, 'hans-christian-andersen': 0.0, 'horacy': 0.0, 'ignacy-krasicki': 0.0, 'mikolaj-sep-szarzynski': 2.135231316725979}\n",
      "mikolaj-sep-szarzynski\n"
     ]
    }
   ],
   "source": [
    "#Fragment Do Kasie mam nadzieję że się nade mną zlitujesz Szarzyńskiego\n",
    "\n",
    "fragment = '''Nieznośnej żałości i ciężkiej tęsknice\n",
    "Żałośne łzy, które kropią smętne lice'''\n",
    "print(K.classifyFullProb(fragment))\n",
    "print(K.classify(fragment))"
   ]
  },
  {
   "cell_type": "markdown",
   "metadata": {},
   "source": [
    "**Romantyzm**"
   ]
  },
  {
   "cell_type": "code",
   "execution_count": 14,
   "metadata": {},
   "outputs": [
    {
     "name": "stdout",
     "output_type": "stream",
     "text": [
      "{'dante-alighieri': 2.1701199563794984, 'hans-christian-andersen': 3.771035499324407, 'horacy': 0.0, 'ignacy-krasicki': 1.276595744680851, 'mikolaj-sep-szarzynski': 0.0}\n",
      "hans-christian-andersen\n"
     ]
    }
   ],
   "source": [
    "#Fragment Motylek Andersena\n",
    "\n",
    "fragment = '''Motyl chciał wybrać sobie piękną żonę, więc naturalnie zwrócił się do kwiatów.\n",
    "\n",
    "W ogrodzie było ich pełno. Spojrzał ciekawym wzrokiem i zauważył zaraz, iż każdy stoi na swojej łodyżce skromnie i prosto, jak młoda panienka. Wszystkie zresztą były ładne i podobały mu się, więc wybór był trudny. Co tu robić?\n",
    "\n",
    "Nie lubił się zastanawiać i rozważać długo. To takie nudne rzeczy! Uciekał zawsze od wszystkiego, co było podobne do pracy i teraz postanowił się wyręczyć.\n",
    "\n",
    "Udał się do „Margeritki”, która — jak wiadomo — jest dobrą wróżbą'''\n",
    "print(K.classifyFullProb(fragment))\n",
    "print(K.classify(fragment))"
   ]
  },
  {
   "cell_type": "markdown",
   "metadata": {},
   "source": [
    "**Oświecenie**"
   ]
  },
  {
   "cell_type": "code",
   "execution_count": 15,
   "metadata": {},
   "outputs": [
    {
     "name": "stdout",
     "output_type": "stream",
     "text": [
      "{'dante-alighieri': 0.39258451472191935, 'hans-christian-andersen': 0.0, 'horacy': 0.0, 'ignacy-krasicki': 1.1347517730496455, 'mikolaj-sep-szarzynski': 0.0}\n",
      "ignacy-krasicki\n"
     ]
    }
   ],
   "source": [
    "#Fragment Bajki i Przypowieści Ignacy Krasicki\n",
    "\n",
    "fragment = '''Gdy się wszystkie zwierzęta u lwa znajdowały,\n",
    "Był dyskurs: jaki przymiot w zwierzu doskonały.\n",
    "Słoń roztropność zachwalał; żubr mienił powagę;\n",
    "Wielbłądy wstrzemięźliwość, lamparty odwagę,\n",
    "Niedźwiedź moc znamienitą, koń ozdobną postać;\n",
    "Wilk staranie przemyślne, jak zdobyczy dostać,'''\n",
    "print(K.classifyFullProb(fragment))\n",
    "print(K.classify(fragment))"
   ]
  },
  {
   "cell_type": "markdown",
   "metadata": {},
   "source": [
    "### Wnioski"
   ]
  },
  {
   "cell_type": "markdown",
   "metadata": {},
   "source": [
    "Możemy łatwo zauważyć, że dla wszystkich przypadków klasyfikator poprawnie wskazał autora. Widzimy również, że podobieństwa są bardzo małe dla innych autorów od akurat badanego. Spójrzmy, że np. dla Baroku praktycznie żaden autor nie ma podobnego stylu pisania co Szarzyński. To samo tyczy się Horacego w Średniowieczu. Spowodowane to jest zapewnie tym, że pisali oni bardzo dawno i używali słownictwa po prostu przestarzałego dla współczesnych autorów. Jak spojrzymy dalej ta dwójka praktycznie w żadnym punkcie nie jest podobna to autorów z innych epok. Byli oni można by stwierdzić unikatowi ze swoim stylem pisania."
   ]
  },
  {
   "cell_type": "markdown",
   "metadata": {},
   "source": [
    "Jak spojrzymy na dalsze epoki tzn. romantyzm czy oświecenie widzimy, że również poprawnie jest odczytywany autor jednak teksty innych autorów są w jakimś stopniu podobnie do podanego fragmentu. Możemy tutaj stwierdzić poprawność klasyfikatora jednak nie jest to sytuacja w 100% oczywista jak w przypadku autorów dawnych."
   ]
  }
 ],
 "metadata": {
  "interpreter": {
   "hash": "f5b06153cd381b316087c2b284f95143ec60e76ac74c494d86ea6d4b0998e97d"
  },
  "kernelspec": {
   "display_name": "Python 3.9.10 64-bit (windows store)",
   "language": "python",
   "name": "python3"
  },
  "language_info": {
   "codemirror_mode": {
    "name": "ipython",
    "version": 3
   },
   "file_extension": ".py",
   "mimetype": "text/x-python",
   "name": "python",
   "nbconvert_exporter": "python",
   "pygments_lexer": "ipython3",
   "version": "3.9.10"
  },
  "orig_nbformat": 4
 },
 "nbformat": 4,
 "nbformat_minor": 2
}

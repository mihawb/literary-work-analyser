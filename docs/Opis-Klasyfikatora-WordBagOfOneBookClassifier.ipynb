{
 "cells": [
  {
   "cell_type": "markdown",
   "id": "6c10ebef",
   "metadata": {},
   "source": [
    "# Klasyfikator WordBagOfOneBookClassifier\n",
    "Jest to klasyfikator dopasowujący autora do fragmentu tekstu. Zbiór uczący to pojedyncze dzieła zadanego zbioru autorów. Klasyfikator buduje worki słów (zawierające wszystkie tokeny) na podstawie zadanych tekstów. ZU analizowany jest tylko raz przy inicjalizacji instancji klasyfikatora; nie ma potrzeby przekompilowywania go do każdego fragmentu. Na podstawie zbioru uczącego dopasowuje autora innych jego tekstów spoza tego zbioru. Wynik dopasowania jest uzależniony od ilości tokenów danego autora, zatem autorzy z większą liczbą tokenów (a co za tym idzie również większą liczbą dopasowań we fragmencie) nie powinni dominować wyników klasyfikacji.  \n",
    "  \n",
    "Zbiór uczący zawarty w katalogu *test_books/zb_uczacy1* zawiera następujące utwory:\n",
    "* Stanisław Wyspiański - Wesele\n",
    "* Stefan Żeromski - Ludzie bezdomni tom I\n",
    "* Tadeusz Boy-Żeleński - Piekło kobiet\n",
    "* Zgromadzenie Ogólne ONZ - Konwencja praw dziecka  \n",
    "  \n",
    "Publiczne metody klasyfiaktora:\n",
    "* getAuthors() -> zwraca listę wszystkich autorów zawartych w zbiorze uczącym\n",
    "* classify(str) -> zwraca autora dopasowanego do zadanego fragmentu dzieła\n",
    "* classifyFullProb(str) -> zwraca słownik w formacie < autor : wynik dopasowania >\n",
    "\n",
    "Program sędziujący przyjmuje następujące parametry:  \n",
    "* klasyfikator -> dany klasyfiaktor do testowania\n",
    "* zbior_ksiazek -> zbiór dzieł z którego ma wybierać fragmenty\n",
    "* zbior_klas -> zbiór dzieł do utworzenia klasyfikatora\n",
    "* ilosc_testow \n",
    "* ilosc_linii -> długosć fragmentu\n",
    "* seed -> ziarno dla generatora fargmentów (opcjonalny)\n",
    "* lim -> liczba najczęściej występujących tokenów - nieużywane w tym klasyfiaktorze (opcjonalny)  \n",
    "  \n",
    "Z losowej książki autora wybiera losowy fragment i zwraca dane umożliwiające sprawdzenie wydajność klasyfikatora. Zwraca cztery listy cztery listy zawierające następujące dane:  \n",
    "* rauthors -> faktyczni autorzy fragmentów\n",
    "* rbooks -> książki z których pochodziły kolejne fragmenty\n",
    "* rfrags -> konkretne fragmenty dzieł\n",
    "* rodps -> dopasowania klasyfikatora"
   ]
  },
  {
   "cell_type": "code",
   "execution_count": 1,
   "id": "6810414b",
   "metadata": {},
   "outputs": [],
   "source": [
    "import sys\n",
    "sys.path.insert(1, '..')\n",
    "from src.bookwordbag import WordBagOfOneBookClassifier\n",
    "from src.sedzia import sedzia"
   ]
  },
  {
   "cell_type": "code",
   "execution_count": 2,
   "id": "b5b595b6",
   "metadata": {},
   "outputs": [
    {
     "name": "stdout",
     "output_type": "stream",
     "text": [
      "łączna trafność dopasowań: 0.93\n"
     ]
    }
   ],
   "source": [
    "path_zb_uczacy = '..\\\\test_books\\\\zb_uczacy1'\n",
    "path_frag = '..\\\\books'\n",
    "\n",
    "l_test = 100\n",
    "dlugosc = 100\n",
    "\n",
    "a, b, f, o = sedzia(WordBagOfOneBookClassifier, path_frag, path_zb_uczacy, l_test, dlugosc, seed=140)\n",
    "\n",
    "ilosc_celnych_doapsowan = 0\n",
    "for i in range(len(a)):\n",
    "    if a[i] == o[i]:\n",
    "        ilosc_celnych_doapsowan += 1\n",
    "#     print(a[i], o[i], a[i] == o[i])\n",
    "    \n",
    "print(\"łączna trafność dopasowań:\", ilosc_celnych_doapsowan / l_test)"
   ]
  },
  {
   "cell_type": "code",
   "execution_count": 3,
   "id": "a81f0da1",
   "metadata": {},
   "outputs": [
    {
     "name": "stdout",
     "output_type": "stream",
     "text": [
      "łączna trafność dopasowań: 0.9\n"
     ]
    }
   ],
   "source": [
    "l_test = 100\n",
    "dlugosc = 200\n",
    "\n",
    "a, b, f, o = sedzia(WordBagOfOneBookClassifier, path_frag, path_zb_uczacy, l_test, dlugosc, seed=156745)\n",
    "\n",
    "ilosc_celnych_doapsowan = 0\n",
    "for i in range(len(a)):\n",
    "    if a[i] == o[i]:\n",
    "        ilosc_celnych_doapsowan += 1\n",
    "#     print(a[i], o[i], a[i] == o[i])\n",
    "    \n",
    "print(\"łączna trafność dopasowań:\", ilosc_celnych_doapsowan / l_test)"
   ]
  },
  {
   "cell_type": "code",
   "execution_count": 4,
   "id": "6f4ddc5e",
   "metadata": {},
   "outputs": [
    {
     "name": "stdout",
     "output_type": "stream",
     "text": [
      "łączna trafność dopasowań: 0.91\n"
     ]
    }
   ],
   "source": [
    "l_test = 100\n",
    "dlugosc = 150\n",
    "\n",
    "a, b, f, o = sedzia(WordBagOfOneBookClassifier, path_frag, path_zb_uczacy, l_test, dlugosc, seed=3455678)\n",
    "\n",
    "ilosc_celnych_doapsowan = 0\n",
    "for i in range(len(a)):\n",
    "    if a[i] == o[i]:\n",
    "        ilosc_celnych_doapsowan += 1\n",
    "#     print(a[i], o[i], a[i] == o[i])\n",
    "    \n",
    "print(\"łączna trafność dopasowań:\", ilosc_celnych_doapsowan / l_test)"
   ]
  },
  {
   "cell_type": "markdown",
   "id": "8fbf4d0e",
   "metadata": {},
   "source": [
    "Dla długich fragmentów tekstów klasyfikator ten ma dobrą, lecz nie idealną celność dopasowań. Zbiór uczący jednak zawiera autorów którzy wykazywali duże podobieństwo w analizie całego zbioru. Sprubujmy przeprowadzić analizę dla innego zbioru uczącego.  \n",
    "* Eliza Orzeszkowa - Julianka \n",
    "* Henryk Sienkiewicz - Quo Vadis\n",
    "* Bolesław Prus - Kamizelka"
   ]
  },
  {
   "cell_type": "code",
   "execution_count": 5,
   "id": "b5de6f09",
   "metadata": {},
   "outputs": [
    {
     "name": "stdout",
     "output_type": "stream",
     "text": [
      "łączna trafność dopasowań: 0.97\n"
     ]
    }
   ],
   "source": [
    "path_zb_uczacy = '..\\\\test_books\\\\zb_uczacy2'\n",
    "\n",
    "l_test = 100\n",
    "dlugosc = 150\n",
    "\n",
    "a, b, f, o = sedzia(WordBagOfOneBookClassifier, path_frag, path_zb_uczacy, l_test, dlugosc, seed=3458)\n",
    "\n",
    "ilosc_celnych_doapsowan = 0\n",
    "for i in range(len(a)):\n",
    "    if a[i] == o[i]:\n",
    "        ilosc_celnych_doapsowan += 1\n",
    "    \n",
    "print(\"łączna trafność dopasowań:\", ilosc_celnych_doapsowan / l_test)"
   ]
  },
  {
   "cell_type": "code",
   "execution_count": 6,
   "id": "1c3e919e",
   "metadata": {},
   "outputs": [
    {
     "name": "stdout",
     "output_type": "stream",
     "text": [
      "łączna trafność dopasowań: 0.93\n"
     ]
    }
   ],
   "source": [
    "l_test = 100\n",
    "dlugosc = 200\n",
    "\n",
    "a, b, f, o = sedzia(WordBagOfOneBookClassifier, path_frag, path_zb_uczacy, l_test, dlugosc, seed=1111)\n",
    "\n",
    "ilosc_celnych_doapsowan = 0\n",
    "for i in range(len(a)):\n",
    "    if a[i] == o[i]:\n",
    "        ilosc_celnych_doapsowan += 1\n",
    "    \n",
    "print(\"łączna trafność dopasowań:\", ilosc_celnych_doapsowan / l_test)"
   ]
  },
  {
   "cell_type": "markdown",
   "id": "1b9aef1d",
   "metadata": {},
   "source": [
    "Faktycznie, zauważamy mały wzrost celności. Sprawdźmy teraz jak poradzi sobie klasyfikator gdy skrócimy fragmenty tekstów."
   ]
  },
  {
   "cell_type": "code",
   "execution_count": 7,
   "id": "b8daf88b",
   "metadata": {},
   "outputs": [
    {
     "name": "stdout",
     "output_type": "stream",
     "text": [
      "łączna trafność dopasowań: 0.84\n"
     ]
    }
   ],
   "source": [
    "l_test = 100\n",
    "dlugosc = 25\n",
    "\n",
    "a, b, f, o = sedzia(WordBagOfOneBookClassifier, path_frag, path_zb_uczacy, l_test, dlugosc, seed=1111)\n",
    "\n",
    "ilosc_celnych_doapsowan = 0\n",
    "for i in range(len(a)):\n",
    "    if a[i] == o[i]:\n",
    "        ilosc_celnych_doapsowan += 1\n",
    "    \n",
    "print(\"łączna trafność dopasowań:\", ilosc_celnych_doapsowan / l_test)"
   ]
  },
  {
   "cell_type": "code",
   "execution_count": 8,
   "id": "e05db201",
   "metadata": {},
   "outputs": [
    {
     "name": "stdout",
     "output_type": "stream",
     "text": [
      "łączna trafność dopasowań: 0.83\n"
     ]
    }
   ],
   "source": [
    "l_test = 100\n",
    "dlugosc = 15\n",
    "\n",
    "a, b, f, o = sedzia(WordBagOfOneBookClassifier, path_frag, path_zb_uczacy, l_test, dlugosc, seed=1134532)\n",
    "\n",
    "ilosc_celnych_doapsowan = 0\n",
    "for i in range(len(a)):\n",
    "    if a[i] == o[i]:\n",
    "        ilosc_celnych_doapsowan += 1\n",
    "    \n",
    "print(\"łączna trafność dopasowań:\", ilosc_celnych_doapsowan / l_test)"
   ]
  },
  {
   "cell_type": "code",
   "execution_count": 9,
   "id": "b9e0b548",
   "metadata": {},
   "outputs": [
    {
     "name": "stdout",
     "output_type": "stream",
     "text": [
      "łączna trafność dopasowań: 0.81\n"
     ]
    }
   ],
   "source": [
    "l_test = 100\n",
    "dlugosc = 3\n",
    "\n",
    "a, b, f, o = sedzia(WordBagOfOneBookClassifier, path_frag, path_zb_uczacy, l_test, dlugosc, seed=1111)\n",
    "\n",
    "ilosc_celnych_doapsowan = 0\n",
    "for i in range(len(a)):\n",
    "    if a[i] == o[i]:\n",
    "        ilosc_celnych_doapsowan += 1\n",
    "    \n",
    "print(\"łączna trafność dopasowań:\", ilosc_celnych_doapsowan / l_test)"
   ]
  },
  {
   "cell_type": "code",
   "execution_count": 10,
   "id": "b71cf083",
   "metadata": {},
   "outputs": [
    {
     "name": "stdout",
     "output_type": "stream",
     "text": [
      "łączna trafność dopasowań: 1.0\n"
     ]
    }
   ],
   "source": [
    "l_test = 100\n",
    "dlugosc = 1\n",
    "\n",
    "a, b, f, o = sedzia(WordBagOfOneBookClassifier, path_frag, path_zb_uczacy, l_test, dlugosc, seed=43563)\n",
    "\n",
    "ilosc_celnych_doapsowan = 0\n",
    "for i in range(len(a)):\n",
    "    if a[i] == o[i]:\n",
    "        ilosc_celnych_doapsowan += 1\n",
    "    \n",
    "print(\"łączna trafność dopasowań:\", ilosc_celnych_doapsowan / l_test)"
   ]
  },
  {
   "cell_type": "code",
   "execution_count": 11,
   "id": "90a63a9a",
   "metadata": {},
   "outputs": [
    {
     "name": "stdout",
     "output_type": "stream",
     "text": [
      "łączna trafność dopasowań: 1.0\n"
     ]
    }
   ],
   "source": [
    "l_test = 1000\n",
    "dlugosc = 1\n",
    "\n",
    "a, b, f, o = sedzia(WordBagOfOneBookClassifier, path_frag, path_zb_uczacy, l_test, dlugosc, seed=777)\n",
    "\n",
    "ilosc_celnych_doapsowan = 0\n",
    "for i in range(len(a)):\n",
    "    if a[i] == o[i]:\n",
    "        ilosc_celnych_doapsowan += 1\n",
    "    \n",
    "print(\"łączna trafność dopasowań:\", ilosc_celnych_doapsowan / l_test)"
   ]
  },
  {
   "cell_type": "markdown",
   "id": "7209a1ab",
   "metadata": {},
   "source": [
    "Dla krótkich fragmentów tekstów celność klasyfiaktora spada, ale dalej jest w stanie odgadnąć zdecydowaną większość tektów.  \n",
    "Zaskakująca sytuacja ma miejsce gdy fragment osiągnie długość zaledwie jednego zdania - wtedy klasyfikator osiąga stuprocentową celność. Można to wyjaśnić budową klasyfikatora: mianowicie, dopasowanie jest liczone jako iloraz sumy wystąpień tokenów fragmentu w tekscie źródłowym autora ze zbioru uczącego i liczby wszystkich tokenów tekstu autora. Dzięki temu dla krótkich fragmentów wystarczy trafienie jednego słowa, by dopasować autora. "
   ]
  }
 ],
 "metadata": {
  "kernelspec": {
   "display_name": "Python 3",
   "language": "python",
   "name": "python3"
  },
  "language_info": {
   "codemirror_mode": {
    "name": "ipython",
    "version": 3
   },
   "file_extension": ".py",
   "mimetype": "text/x-python",
   "name": "python",
   "nbconvert_exporter": "python",
   "pygments_lexer": "ipython3",
   "version": "3.8.8"
  }
 },
 "nbformat": 4,
 "nbformat_minor": 5
}

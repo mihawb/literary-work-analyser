{
 "cells": [
  {
   "cell_type": "markdown",
   "id": "6c10ebef",
   "metadata": {},
   "source": [
    "# Klasyfikator WordBagOfOneBookClassifierWithConnectedTokens\n",
    "Jest to klasyfikator dopasowujący książkę do fragmentu tekstu. Klasyfikator buduje worki słów z połączonych tokenów stworzonych na podstawie zadanych tekstów. Każda książka ma swój własny worek słów, dlatego klasyfikator ten powinien się dobrze sprawdzić przy identyfikacji konkretnego utworu. \n",
    "  \n",
    "Zbiór uczący zawarty w katalogu *test_books/zb_uczacy1* zawiera następujące utwory:\n",
    "* Stanisław Wyspiański - Wesele\n",
    "* Stefan Żeromski - Ludzie bezdomni tom I\n",
    "* Tadeusz Boy-Żeleński - Piekło kobiet\n",
    "* Zgromadzenie Ogólne ONZ - Konwencja praw dziecka  \n",
    "  \n",
    "Publiczne metody klasyfiaktora:\n",
    "* getAuthors() -> na potrzebę programu sędziującego zwraca listę wszystkich autorów zawartych w zbiorze uczącym\n",
    "* classify(str) -> zwraca tytuł (nazwę pliku) książki dopasowanej do zadanego fragmentu dzieła\n",
    "* classifyFullProb(str) -> zwraca słownik w formacie < książka : wynik dopasowania >\n",
    "\n",
    "Program sędziujący przyjmuje następujące parametry:  \n",
    "* klasyfikator -> dany klasyfiaktor do testowania\n",
    "* zbior_ksiazek -> zbiór dzieł z którego ma wybierać fragmenty\n",
    "* zbior_klas -> zbiór dzieł do utworzenia klasyfikatora\n",
    "* ilosc_testow \n",
    "* ilosc_linii -> długosć fragmentu\n",
    "* seed -> ziarno dla generatora fargmentów (opcjonalny)\n",
    "* lim -> liczba najczęściej występujących tokenów - nieużywane w tym klasyfiaktorze (opcjonalny)  \n",
    "  \n",
    "Z losowej książki autora wybiera losowy fragment i zwraca dane umożliwiające sprawdzenie wydajność klasyfikatora. Zwraca cztery listy cztery listy zawierające następujące dane:  \n",
    "* rauthors -> faktyczni autorzy fragmentów\n",
    "* rbooks -> książki z których pochodziły kolejne fragmenty\n",
    "* rfrags -> konkretne fragmenty dzieł\n",
    "* rodps -> dopasowania klasyfikatora"
   ]
  },
  {
   "cell_type": "code",
   "execution_count": 7,
   "id": "6810414b",
   "metadata": {},
   "outputs": [],
   "source": [
    "import sys\n",
    "sys.path.insert(1, '..')\n",
    "from src.bookwordbagconnectedtokens import WordBagOfOneBookClassifierWithConnectedTokens\n",
    "from src.sedzia import sedzia"
   ]
  },
  {
   "cell_type": "code",
   "execution_count": 29,
   "id": "b5b595b6",
   "metadata": {},
   "outputs": [
    {
     "name": "stdout",
     "output_type": "stream",
     "text": [
      "True\n",
      "True\n",
      "False\n",
      "False\n",
      "False\n",
      "True\n",
      "False\n",
      "False\n",
      "True\n",
      "False\n",
      "False\n",
      "False\n",
      "False\n",
      "False\n",
      "False\n",
      "False\n",
      "False\n",
      "True\n",
      "False\n",
      "True\n",
      "False\n",
      "False\n",
      "False\n",
      "False\n",
      "True\n",
      "True\n",
      "False\n",
      "True\n",
      "False\n",
      "False\n",
      "False\n",
      "True\n",
      "False\n",
      "False\n",
      "False\n",
      "False\n",
      "False\n",
      "True\n",
      "False\n",
      "False\n",
      "False\n",
      "True\n",
      "True\n",
      "False\n",
      "True\n",
      "False\n",
      "False\n",
      "True\n",
      "False\n",
      "False\n",
      "True\n",
      "False\n",
      "False\n",
      "False\n",
      "False\n",
      "True\n",
      "True\n",
      "True\n",
      "False\n",
      "False\n",
      "False\n",
      "False\n",
      "False\n",
      "True\n",
      "False\n",
      "True\n",
      "False\n",
      "True\n",
      "False\n",
      "False\n",
      "False\n",
      "True\n",
      "False\n",
      "False\n",
      "False\n",
      "False\n",
      "True\n",
      "False\n",
      "False\n",
      "True\n",
      "False\n",
      "False\n",
      "False\n",
      "False\n",
      "True\n",
      "False\n",
      "False\n",
      "True\n",
      "False\n",
      "True\n",
      "False\n",
      "True\n",
      "False\n",
      "True\n",
      "False\n",
      "False\n",
      "False\n",
      "False\n",
      "True\n",
      "True\n",
      "łączna trafność dopasowań: 0.98\n"
     ]
    }
   ],
   "source": [
    "path_zb_uczacy = '..\\\\test_books\\\\zb_uczacy1'\n",
    "path_frag = '..\\\\books'\n",
    "\n",
    "l_test = 100\n",
    "dlugosc = 100\n",
    "\n",
    "a, b, f, o = sedzia(WordBagOfOneBookClassifierWithConnectedTokens, path_frag, path_zb_uczacy, l_test, dlugosc, seed=140)\n",
    "\n",
    "ilosc_celnych_doapsowan = 0\n",
    "for i in range(len(a)):\n",
    "    print(b[i] == o[i])\n",
    "    o[i] = o[i][:len(a[i])]\n",
    "    if a[i] == o[i]:\n",
    "        ilosc_celnych_doapsowan += 1\n",
    "#     print(a[i], o[i], a[i] == o[i])\n",
    "    \n",
    "print(\"łączna trafność dopasowań:\", ilosc_celnych_doapsowan / l_test)"
   ]
  },
  {
   "cell_type": "code",
   "execution_count": 30,
   "id": "a81f0da1",
   "metadata": {},
   "outputs": [
    {
     "name": "stdout",
     "output_type": "stream",
     "text": [
      "True\n",
      "False\n",
      "True\n",
      "False\n",
      "False\n",
      "False\n",
      "True\n",
      "False\n",
      "True\n",
      "False\n",
      "False\n",
      "False\n",
      "False\n",
      "True\n",
      "False\n",
      "False\n",
      "False\n",
      "False\n",
      "False\n",
      "False\n",
      "False\n",
      "False\n",
      "False\n",
      "False\n",
      "False\n",
      "True\n",
      "False\n",
      "False\n",
      "False\n",
      "False\n",
      "False\n",
      "False\n",
      "False\n",
      "False\n",
      "True\n",
      "True\n",
      "True\n",
      "False\n",
      "False\n",
      "False\n",
      "False\n",
      "True\n",
      "False\n",
      "False\n",
      "False\n",
      "False\n",
      "False\n",
      "False\n",
      "True\n",
      "False\n",
      "True\n",
      "True\n",
      "False\n",
      "False\n",
      "True\n",
      "False\n",
      "True\n",
      "False\n",
      "False\n",
      "True\n",
      "False\n",
      "False\n",
      "False\n",
      "True\n",
      "True\n",
      "True\n",
      "False\n",
      "False\n",
      "True\n",
      "False\n",
      "False\n",
      "False\n",
      "False\n",
      "False\n",
      "False\n",
      "False\n",
      "False\n",
      "False\n",
      "False\n",
      "False\n",
      "False\n",
      "False\n",
      "True\n",
      "False\n",
      "False\n",
      "True\n",
      "True\n",
      "False\n",
      "True\n",
      "False\n",
      "False\n",
      "True\n",
      "False\n",
      "False\n",
      "False\n",
      "False\n",
      "False\n",
      "True\n",
      "False\n",
      "False\n",
      "łączna trafność dopasowań: 0.96\n"
     ]
    }
   ],
   "source": [
    "l_test = 100\n",
    "dlugosc = 200\n",
    "\n",
    "a, b, f, o = sedzia(WordBagOfOneBookClassifierWithConnectedTokens, path_frag, path_zb_uczacy, l_test, dlugosc, seed=156745)\n",
    "\n",
    "ilosc_celnych_doapsowan = 0\n",
    "for i in range(len(a)):\n",
    "    print(b[i] == o[i])\n",
    "    o[i] = o[i][:len(a[i])]\n",
    "    if a[i] == o[i]:\n",
    "        ilosc_celnych_doapsowan += 1\n",
    "    \n",
    "print(\"łączna trafność dopasowań:\", ilosc_celnych_doapsowan / l_test)"
   ]
  },
  {
   "cell_type": "code",
   "execution_count": 18,
   "id": "6f4ddc5e",
   "metadata": {},
   "outputs": [
    {
     "name": "stdout",
     "output_type": "stream",
     "text": [
      "łączna trafność dopasowań: 0.95\n"
     ]
    }
   ],
   "source": [
    "l_test = 100\n",
    "dlugosc = 150\n",
    "\n",
    "a, b, f, o = sedzia(WordBagOfOneBookClassifierWithConnectedTokens, path_frag, path_zb_uczacy, l_test, dlugosc, seed=3455678)\n",
    "\n",
    "ilosc_celnych_doapsowan = 0\n",
    "for i in range(len(a)):\n",
    "    o[i] = o[i][:len(a[i])]\n",
    "    if a[i] == o[i]:\n",
    "        ilosc_celnych_doapsowan += 1\n",
    "    \n",
    "print(\"łączna trafność dopasowań:\", ilosc_celnych_doapsowan / l_test)"
   ]
  },
  {
   "cell_type": "markdown",
   "id": "8fbf4d0e",
   "metadata": {},
   "source": [
    "Co ciekawe, dla długich fragmentów tekstów klasyfikator ten ma całkiem dobrą celność dopasowań autorów, mimo, że wybierał inne ich książki. Spróbujmy przeprowadzić analizę dla innego zbioru uczącego.  \n",
    "* Eliza Orzeszkowa - Julianka \n",
    "* Henryk Sienkiewicz - Quo Vadis\n",
    "* Bolesław Prus - Kamizelka"
   ]
  },
  {
   "cell_type": "code",
   "execution_count": 19,
   "id": "b5de6f09",
   "metadata": {},
   "outputs": [
    {
     "name": "stdout",
     "output_type": "stream",
     "text": [
      "łączna trafność dopasowań: 0.63\n"
     ]
    }
   ],
   "source": [
    "path_zb_uczacy = '..\\\\test_books\\\\zb_uczacy2'\n",
    "\n",
    "l_test = 100\n",
    "dlugosc = 150\n",
    "\n",
    "a, b, f, o = sedzia(WordBagOfOneBookClassifierWithConnectedTokens, path_frag, path_zb_uczacy, l_test, dlugosc, seed=3458)\n",
    "\n",
    "ilosc_celnych_doapsowan = 0\n",
    "for i in range(len(a)):\n",
    "    o[i] = o[i][:len(a[i])]\n",
    "    if a[i] == o[i]:\n",
    "        ilosc_celnych_doapsowan += 1\n",
    "    \n",
    "print(\"łączna trafność dopasowań:\", ilosc_celnych_doapsowan / l_test)"
   ]
  },
  {
   "cell_type": "code",
   "execution_count": 20,
   "id": "1c3e919e",
   "metadata": {},
   "outputs": [
    {
     "name": "stdout",
     "output_type": "stream",
     "text": [
      "łączna trafność dopasowań: 0.47\n"
     ]
    }
   ],
   "source": [
    "l_test = 100\n",
    "dlugosc = 200\n",
    "\n",
    "a, b, f, o = sedzia(WordBagOfOneBookClassifierWithConnectedTokens, path_frag, path_zb_uczacy, l_test, dlugosc, seed=1111)\n",
    "\n",
    "ilosc_celnych_doapsowan = 0\n",
    "for i in range(len(a)):\n",
    "    o[i] = o[i][:len(a[i])]\n",
    "    if a[i] == o[i]:\n",
    "        ilosc_celnych_doapsowan += 1\n",
    "    \n",
    "print(\"łączna trafność dopasowań:\", ilosc_celnych_doapsowan / l_test)"
   ]
  },
  {
   "cell_type": "markdown",
   "id": "1b9aef1d",
   "metadata": {},
   "source": [
    "Możemy zauważyć wyraźny spadek celności dopasowania autorów. Może być to spowodowane tym, że książki w zbiorze testującym i uczącym różnią się od siebie bardziej, niż te w poprzednich zbiorach.\n",
    "\n",
    "Sprawdźmy co się stanie jeżeli zbiór uczący będzie również zbiorem testowym."
   ]
  },
  {
   "cell_type": "code",
   "execution_count": 31,
   "id": "b8daf88b",
   "metadata": {},
   "outputs": [
    {
     "name": "stdout",
     "output_type": "stream",
     "text": [
      "łączna trafność dopasowań: 1.0\n"
     ]
    }
   ],
   "source": [
    "path_zb_uczacy = '../books'\n",
    "l_test = 100\n",
    "dlugosc = 100\n",
    "\n",
    "a, b, f, o = sedzia(WordBagOfOneBookClassifierWithConnectedTokens, path_frag, path_zb_uczacy, l_test, dlugosc, seed=1111)\n",
    "\n",
    "ilosc_celnych_doapsowan = 0\n",
    "for i in range(len(a)):\n",
    "    o[i] = o[i][:len(a[i])]\n",
    "    if a[i] == o[i]:\n",
    "        ilosc_celnych_doapsowan += 1\n",
    "    \n",
    "print(\"łączna trafność dopasowań:\", ilosc_celnych_doapsowan / l_test)"
   ]
  },
  {
   "cell_type": "code",
   "execution_count": 32,
   "id": "e05db201",
   "metadata": {},
   "outputs": [
    {
     "name": "stdout",
     "output_type": "stream",
     "text": [
      "łączna trafność dopasowań: 1.0\n"
     ]
    }
   ],
   "source": [
    "l_test = 100\n",
    "dlugosc = 15\n",
    "\n",
    "a, b, f, o = sedzia(WordBagOfOneBookClassifierWithConnectedTokens, path_frag, path_zb_uczacy, l_test, dlugosc, seed=1134532)\n",
    "\n",
    "ilosc_celnych_doapsowan = 0\n",
    "for i in range(len(a)):\n",
    "    o[i] = o[i][:len(a[i])]\n",
    "    if a[i] == o[i]:\n",
    "        ilosc_celnych_doapsowan += 1\n",
    "    \n",
    "print(\"łączna trafność dopasowań:\", ilosc_celnych_doapsowan / l_test)"
   ]
  },
  {
   "cell_type": "code",
   "execution_count": 33,
   "id": "b9e0b548",
   "metadata": {},
   "outputs": [
    {
     "name": "stdout",
     "output_type": "stream",
     "text": [
      "łączna trafność dopasowań: 1.0\n"
     ]
    }
   ],
   "source": [
    "l_test = 100\n",
    "dlugosc = 3\n",
    "\n",
    "a, b, f, o = sedzia(WordBagOfOneBookClassifierWithConnectedTokens, path_frag, path_zb_uczacy, l_test, dlugosc, seed=1111)\n",
    "\n",
    "ilosc_celnych_doapsowan = 0\n",
    "for i in range(len(a)):\n",
    "    o[i] = o[i][:len(a[i])]\n",
    "    if a[i] == o[i]:\n",
    "        ilosc_celnych_doapsowan += 1\n",
    "    \n",
    "print(\"łączna trafność dopasowań:\", ilosc_celnych_doapsowan / l_test)"
   ]
  },
  {
   "cell_type": "code",
   "execution_count": 34,
   "id": "b71cf083",
   "metadata": {},
   "outputs": [
    {
     "name": "stdout",
     "output_type": "stream",
     "text": [
      "łączna trafność dopasowań: 1.0\n"
     ]
    }
   ],
   "source": [
    "l_test = 100\n",
    "dlugosc = 1\n",
    "\n",
    "a, b, f, o = sedzia(WordBagOfOneBookClassifierWithConnectedTokens, path_frag, path_zb_uczacy, l_test, dlugosc, seed=43563)\n",
    "\n",
    "ilosc_celnych_doapsowan = 0\n",
    "for i in range(len(a)):\n",
    "    o[i] = o[i][:len(a[i])]\n",
    "    if a[i] == o[i]:\n",
    "        ilosc_celnych_doapsowan += 1\n",
    "    \n",
    "print(\"łączna trafność dopasowań:\", ilosc_celnych_doapsowan / l_test)"
   ]
  },
  {
   "cell_type": "code",
   "execution_count": 35,
   "id": "90a63a9a",
   "metadata": {},
   "outputs": [
    {
     "name": "stdout",
     "output_type": "stream",
     "text": [
      "łączna trafność dopasowań: 1.0\n"
     ]
    }
   ],
   "source": [
    "l_test = 1000\n",
    "dlugosc = 1\n",
    "\n",
    "a, b, f, o = sedzia(WordBagOfOneBookClassifierWithConnectedTokens, path_frag, path_zb_uczacy, l_test, dlugosc, seed=777)\n",
    "\n",
    "ilosc_celnych_doapsowan = 0\n",
    "for i in range(len(a)):\n",
    "    o[i] = o[i][:len(a[i])]\n",
    "    if a[i] == o[i]:\n",
    "        ilosc_celnych_doapsowan += 1\n",
    "    \n",
    "print(\"łączna trafność dopasowań:\", ilosc_celnych_doapsowan / l_test)"
   ]
  },
  {
   "cell_type": "markdown",
   "id": "7209a1ab",
   "metadata": {},
   "source": [
    "Klasyfikator wykazuję bardzo dużą trafność, jeżeli zbiór testowy nie różni się bardzo od zbioru testowego. Budowanie klasyfikatora z dużego zbioru może jednak zajmować dużo czasu i pamięci, jednak w niektórych zastosowaniach może być z powodzeniem wykorzystywany, np. API dopasowujące książkę do fragmentu. Zbudowany raz klasyfikator mógłby szybko zwracać wyniki dla dużych zbiorów utworów."
   ]
  }
 ],
 "metadata": {
  "kernelspec": {
   "display_name": "Python 3",
   "language": "python",
   "name": "python3"
  },
  "language_info": {
   "codemirror_mode": {
    "name": "ipython",
    "version": 3
   },
   "file_extension": ".py",
   "mimetype": "text/x-python",
   "name": "python",
   "nbconvert_exporter": "python",
   "pygments_lexer": "ipython3",
   "version": "3.10.2"
  }
 },
 "nbformat": 4,
 "nbformat_minor": 5
}

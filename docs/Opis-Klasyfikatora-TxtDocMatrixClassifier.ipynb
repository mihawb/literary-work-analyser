{
 "cells": [
  {
   "cell_type": "markdown",
   "id": "6c10ebef",
   "metadata": {},
   "source": [
    "# Klasyfikator TxtDocMatrixClassifier\n",
    "Jest to klasyfikator dopasowujący autora do fragmentu tekstu. Zbiór uczący to wszystkie dzieła zawarte w katalogu *books/*, natomiast wewnątrz budowana jest macierz TDM. Autor jest dopasowywany na podstawie sumarycznej ilości wystąpień tokenów fragmentu w jego kolumnie macierzy TDM. Dużą wadą klasyfikatora jest czas tworzenia macierzy, która musi zostać utworzona na nowo dla każdego kolejnego fragmentu.\n",
    "  \n",
    "Publiczne metody klasyfiaktora:\n",
    "* getAuthors() -> zwraca listę wszystkich autorów zawartych w zbiorze uczącym\n",
    "* classify(str) -> zwraca autora dopasowanego do zadanego fragmentu dzieła\n",
    "* classifyFullProb(str) -> zwraca słownik w formacie < autor : wynik dopasowania >\n",
    "\n",
    "Program sędziujący przyjmuje następujące parametry:  \n",
    "* klasyfikator -> dany klasyfiaktor do testowania\n",
    "* zbior_ksiazek -> zbiór dzieł z którego ma wybierać fragmenty\n",
    "* zbior_klas -> zbiór dzieł do utworzenia klasyfikatora\n",
    "* ilosc_testow \n",
    "* ilosc_linii -> długosć fragmentu\n",
    "* seed -> ziarno dla generatora fargmentów (opcjonalny)\n",
    "* lim -> liczba najczęściej występujących tokenów - opcjonalny w programie, ale konieczny dla tego klasyfikatora \n",
    "  \n",
    "Z losowej książki autora wybiera losowy fragment i zwraca dane umożliwiające sprawdzenie wydajność klasyfikatora. Zwraca cztery listy cztery listy zawierające następujące dane:  \n",
    "* rauthors -> faktyczni autorzy fragmentów\n",
    "* rbooks -> książki z których pochodziły kolejne fragmenty\n",
    "* rfrags -> konkretne fragmenty dzieł\n",
    "* rodps -> dopasowania klasyfikatora"
   ]
  },
  {
   "cell_type": "code",
   "execution_count": 1,
   "id": "6810414b",
   "metadata": {},
   "outputs": [],
   "source": [
    "import sys\n",
    "sys.path.insert(1, '..')\n",
    "from src.txtdocmatrix import TxtDocMatrixClassifier\n",
    "from src.sedzia import sedzia\n",
    "\n",
    "path_zb_uczacy = '..\\\\books'\n",
    "path_frag = '..\\\\books'"
   ]
  },
  {
   "cell_type": "code",
   "execution_count": 2,
   "id": "b5b595b6",
   "metadata": {},
   "outputs": [
    {
     "name": "stdout",
     "output_type": "stream",
     "text": [
      "łączna trafność dopasowań: 0.27\n"
     ]
    }
   ],
   "source": [
    "l_test = 100\n",
    "dlugosc = 200\n",
    "limit = 100\n",
    "\n",
    "a, b, f, o = sedzia(TxtDocMatrixClassifier, path_frag, path_zb_uczacy, l_test, dlugosc, seed=1, lim=limit)\n",
    "\n",
    "ilosc_celnych_doapsowan = 0\n",
    "for i in range(len(a)):\n",
    "    if a[i] == o[i]:\n",
    "        ilosc_celnych_doapsowan += 1\n",
    "#     print(a[i], o[i], a[i] == o[i])\n",
    "    \n",
    "print(\"łączna trafność dopasowań:\", ilosc_celnych_doapsowan / l_test)"
   ]
  },
  {
   "cell_type": "code",
   "execution_count": 3,
   "id": "a81f0da1",
   "metadata": {},
   "outputs": [
    {
     "name": "stdout",
     "output_type": "stream",
     "text": [
      "łączna trafność dopasowań: 0.25\n"
     ]
    }
   ],
   "source": [
    "l_test = 100\n",
    "dlugosc = 100\n",
    "limit = 100\n",
    "\n",
    "a, b, f, o = sedzia(TxtDocMatrixClassifier, path_frag, path_zb_uczacy, l_test, dlugosc, seed=2, lim=limit)\n",
    "\n",
    "ilosc_celnych_doapsowan = 0\n",
    "for i in range(len(a)):\n",
    "    if a[i] == o[i]:\n",
    "        ilosc_celnych_doapsowan += 1\n",
    "#     print(a[i], o[i], a[i] == o[i])\n",
    "    \n",
    "print(\"łączna trafność dopasowań:\", ilosc_celnych_doapsowan / l_test)"
   ]
  },
  {
   "cell_type": "code",
   "execution_count": 4,
   "id": "6f4ddc5e",
   "metadata": {},
   "outputs": [
    {
     "name": "stdout",
     "output_type": "stream",
     "text": [
      "łączna trafność dopasowań: 0.29\n"
     ]
    }
   ],
   "source": [
    "l_test = 100\n",
    "dlugosc = 50\n",
    "limit = 100\n",
    "\n",
    "a, b, f, o = sedzia(TxtDocMatrixClassifier, path_frag, path_zb_uczacy, l_test, dlugosc, seed=3, lim=limit)\n",
    "\n",
    "ilosc_celnych_doapsowan = 0\n",
    "for i in range(len(a)):\n",
    "    if a[i] == o[i]:\n",
    "        ilosc_celnych_doapsowan += 1\n",
    "#     print(a[i], o[i], a[i] == o[i])\n",
    "    \n",
    "print(\"łączna trafność dopasowań:\", ilosc_celnych_doapsowan / l_test)"
   ]
  },
  {
   "cell_type": "code",
   "execution_count": 5,
   "id": "e06ff501",
   "metadata": {},
   "outputs": [
    {
     "name": "stdout",
     "output_type": "stream",
     "text": [
      "łączna trafność dopasowań: 0.28\n"
     ]
    }
   ],
   "source": [
    "l_test = 100\n",
    "dlugosc = 25\n",
    "limit = 100\n",
    "\n",
    "a, b, f, o = sedzia(TxtDocMatrixClassifier, path_frag, path_zb_uczacy, l_test, dlugosc, seed=4, lim=limit)\n",
    "\n",
    "ilosc_celnych_doapsowan = 0\n",
    "for i in range(len(a)):\n",
    "    if a[i] == o[i]:\n",
    "        ilosc_celnych_doapsowan += 1\n",
    "#     print(a[i], o[i], a[i] == o[i])\n",
    "    \n",
    "print(\"łączna trafność dopasowań:\", ilosc_celnych_doapsowan / l_test)"
   ]
  },
  {
   "cell_type": "code",
   "execution_count": 7,
   "id": "e0167226",
   "metadata": {},
   "outputs": [
    {
     "name": "stdout",
     "output_type": "stream",
     "text": [
      "łączna trafność dopasowań: 0.44\n"
     ]
    }
   ],
   "source": [
    "l_test = 100\n",
    "dlugosc = 100\n",
    "limit = 25\n",
    "\n",
    "a, b, f, o = sedzia(TxtDocMatrixClassifier, path_frag, path_zb_uczacy, l_test, dlugosc, seed=11, lim=limit)\n",
    "\n",
    "ilosc_celnych_doapsowan = 0\n",
    "for i in range(len(a)):\n",
    "    if a[i] == o[i]:\n",
    "        ilosc_celnych_doapsowan += 1\n",
    "#     print(a[i], o[i], a[i] == o[i])\n",
    "    \n",
    "print(\"łączna trafność dopasowań:\", ilosc_celnych_doapsowan / l_test)"
   ]
  },
  {
   "cell_type": "code",
   "execution_count": 8,
   "id": "50c7cafb",
   "metadata": {},
   "outputs": [
    {
     "name": "stdout",
     "output_type": "stream",
     "text": [
      "łączna trafność dopasowań: 0.24\n"
     ]
    }
   ],
   "source": [
    "l_test = 100\n",
    "dlugosc = 100\n",
    "limit = 100\n",
    "\n",
    "a, b, f, o = sedzia(TxtDocMatrixClassifier, path_frag, path_zb_uczacy, l_test, dlugosc, seed=12, lim=limit)\n",
    "\n",
    "ilosc_celnych_doapsowan = 0\n",
    "for i in range(len(a)):\n",
    "    if a[i] == o[i]:\n",
    "        ilosc_celnych_doapsowan += 1\n",
    "#     print(a[i], o[i], a[i] == o[i])\n",
    "    \n",
    "print(\"łączna trafność dopasowań:\", ilosc_celnych_doapsowan / l_test)"
   ]
  },
  {
   "cell_type": "code",
   "execution_count": 11,
   "id": "1ae2322d",
   "metadata": {},
   "outputs": [
    {
     "name": "stdout",
     "output_type": "stream",
     "text": [
      "łączna trafność dopasowań: 0.19\n"
     ]
    }
   ],
   "source": [
    "l_test = 100\n",
    "dlugosc = 1000\n",
    "limit = 1000\n",
    "\n",
    "a, b, f, o = sedzia(TxtDocMatrixClassifier, path_frag, path_zb_uczacy, l_test, dlugosc, seed=21, lim=limit)\n",
    "\n",
    "ilosc_celnych_doapsowan = 0\n",
    "for i in range(len(a)):\n",
    "    if a[i] == o[i]:\n",
    "        ilosc_celnych_doapsowan += 1\n",
    "#     print(a[i], o[i], a[i] == o[i])\n",
    "    \n",
    "print(\"łączna trafność dopasowań:\", ilosc_celnych_doapsowan / l_test)"
   ]
  },
  {
   "cell_type": "code",
   "execution_count": 12,
   "id": "c4d32770",
   "metadata": {},
   "outputs": [
    {
     "name": "stdout",
     "output_type": "stream",
     "text": [
      "łączna trafność dopasowań: 0.24\n"
     ]
    }
   ],
   "source": [
    "l_test = 100\n",
    "dlugosc = 25\n",
    "limit = 1000\n",
    "\n",
    "a, b, f, o = sedzia(TxtDocMatrixClassifier, path_frag, path_zb_uczacy, l_test, dlugosc, seed=22, lim=limit)\n",
    "\n",
    "ilosc_celnych_doapsowan = 0\n",
    "for i in range(len(a)):\n",
    "    if a[i] == o[i]:\n",
    "        ilosc_celnych_doapsowan += 1\n",
    "#     print(a[i], o[i], a[i] == o[i])\n",
    "    \n",
    "print(\"łączna trafność dopasowań:\", ilosc_celnych_doapsowan / l_test)"
   ]
  },
  {
   "cell_type": "code",
   "execution_count": 13,
   "id": "976cbc6f",
   "metadata": {},
   "outputs": [
    {
     "name": "stdout",
     "output_type": "stream",
     "text": [
      "łączna trafność dopasowań: 0.3\n"
     ]
    }
   ],
   "source": [
    "l_test = 100\n",
    "dlugosc = 1000\n",
    "limit = 25\n",
    "\n",
    "a, b, f, o = sedzia(TxtDocMatrixClassifier, path_frag, path_zb_uczacy, l_test, dlugosc, seed=23, lim=limit)\n",
    "\n",
    "ilosc_celnych_doapsowan = 0\n",
    "for i in range(len(a)):\n",
    "    if a[i] == o[i]:\n",
    "        ilosc_celnych_doapsowan += 1\n",
    "#     print(a[i], o[i], a[i] == o[i])\n",
    "    \n",
    "print(\"łączna trafność dopasowań:\", ilosc_celnych_doapsowan / l_test)"
   ]
  },
  {
   "cell_type": "code",
   "execution_count": 14,
   "id": "b582c85e",
   "metadata": {},
   "outputs": [
    {
     "name": "stdout",
     "output_type": "stream",
     "text": [
      "łączna trafność dopasowań: 0.44\n"
     ]
    }
   ],
   "source": [
    "l_test = 100\n",
    "dlugosc = 25\n",
    "limit = 25\n",
    "\n",
    "a, b, f, o = sedzia(TxtDocMatrixClassifier, path_frag, path_zb_uczacy, l_test, dlugosc, seed=24, lim=limit)\n",
    "\n",
    "ilosc_celnych_doapsowan = 0\n",
    "for i in range(len(a)):\n",
    "    if a[i] == o[i]:\n",
    "        ilosc_celnych_doapsowan += 1\n",
    "#     print(a[i], o[i], a[i] == o[i])\n",
    "    \n",
    "print(\"łączna trafność dopasowań:\", ilosc_celnych_doapsowan / l_test)"
   ]
  },
  {
   "cell_type": "markdown",
   "id": "97e7b770",
   "metadata": {},
   "source": [
    "Kolejną wadą klasyfikatora niewątpliwie jest jego niska celność. Spowodowana jest ona prawdopodobnie faktem, że ilość wystąpień tokenów w macierzy TDM nie jest odnoszona do np. ilości wszystkich tokenów autora. Przez to autorzy o większej objętości słowników dominują wyniki dopasowań.  \n",
    "  \n",
    "Z drugiej strony, dodanie tak prostego odniesienia sprawiłoby, że ten klasyfikator stałby się gorszą wersją WordBagOfAuthorClassifier, bo na takiej zasadzie w nim zachodzą dopasowania (gorszą, przez konieczność utworzenia nowej TDM dla każdego fragmentu => znacznie wyższa czasochłonność dopasowań).  \n",
    "  \n",
    "Lepszym pomysłem byłoby na przykład policzenie miar TF-IDF dla macierzy TDM. Z nowej macierzy wybranie słów o największej mierze IDF, a z nich wybranie takiego autora, dla którego obserwujemy najwyższy TF danego słowa. Brak implementacji takiego rozwiązania może być skutkiem początkowego niezrozumienia pewnych terminów; zrozumienie to nabywaliśmy w trakcie rozwoju projektu. Teraz niestety brakuje nam czasu na dodanie nowej funkcjonalności, a klasyfikator ten pozostaje artefaktem zwykłej ludzkiej omylności."
   ]
  }
 ],
 "metadata": {
  "kernelspec": {
   "display_name": "Python 3",
   "language": "python",
   "name": "python3"
  },
  "language_info": {
   "codemirror_mode": {
    "name": "ipython",
    "version": 3
   },
   "file_extension": ".py",
   "mimetype": "text/x-python",
   "name": "python",
   "nbconvert_exporter": "python",
   "pygments_lexer": "ipython3",
   "version": "3.8.8"
  }
 },
 "nbformat": 4,
 "nbformat_minor": 5
}

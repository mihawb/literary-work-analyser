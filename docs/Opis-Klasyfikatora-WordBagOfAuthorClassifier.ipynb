{
 "cells": [
  {
   "cell_type": "markdown",
   "id": "6c10ebef",
   "metadata": {},
   "source": [
    "# Klasyfikator WordBagOfAuthorClassifier\n",
    "Jest to klasyfikator dopasowujący autora do fragmentu tekstu. Zbiór uczący to wszystkie dzieła zawarte w katalogu *books/*, natomiast dla każdego autora budowany jest słownik jedynie najczęściej występujących tokenów. Wynik dopasowania to suma wystąpień tokenów z fragmentu w słowniku autora, podzielona przez sumę wszystkich wystąpień tokenów autora. Dzięki temu klasyfikator powinien być odporny na różnicę w częstości tokenów poszczególnych autorów.  \n",
    "  \n",
    "Publiczne metody klasyfiaktora:\n",
    "* getAuthors() -> zwraca listę wszystkich autorów zawartych w zbiorze uczącym\n",
    "* classify(str) -> zwraca autora dopasowanego do zadanego fragmentu dzieła\n",
    "* classifyFullProb(str) -> zwraca słownik w formacie < autor : wynik dopasowania >\n",
    "\n",
    "Program sędziujący przyjmuje następujące parametry:  \n",
    "* klasyfikator -> dany klasyfiaktor do testowania\n",
    "* zbior_ksiazek -> zbiór dzieł z którego ma wybierać fragmenty\n",
    "* zbior_klas -> zbiór dzieł do utworzenia klasyfikatora\n",
    "* ilosc_testow \n",
    "* ilosc_linii -> długosć fragmentu\n",
    "* seed -> ziarno dla generatora fargmentów (opcjonalny)\n",
    "* lim -> liczba najczęściej występujących tokenów - opcjonalny w programie, ale konieczny dla tego klasyfikatora \n",
    "  \n",
    "Z losowej książki autora wybiera losowy fragment i zwraca dane umożliwiające sprawdzenie wydajność klasyfikatora. Zwraca cztery listy cztery listy zawierające następujące dane:  \n",
    "* rauthors -> faktyczni autorzy fragmentów\n",
    "* rbooks -> książki z których pochodziły kolejne fragmenty\n",
    "* rfrags -> konkretne fragmenty dzieł\n",
    "* rodps -> dopasowania klasyfikatora"
   ]
  },
  {
   "cell_type": "code",
   "execution_count": 1,
   "id": "6810414b",
   "metadata": {},
   "outputs": [],
   "source": [
    "import sys\n",
    "sys.path.insert(1, '..')\n",
    "from src.authorwordbag import WordBagOfAuthorClassifier\n",
    "from src.sedzia import sedzia\n",
    "\n",
    "path_zb_uczacy = '..\\\\books'\n",
    "path_frag = '..\\\\books'"
   ]
  },
  {
   "cell_type": "code",
   "execution_count": 2,
   "id": "b5b595b6",
   "metadata": {},
   "outputs": [
    {
     "name": "stdout",
     "output_type": "stream",
     "text": [
      "łączna trafność dopasowań: 0.86\n"
     ]
    }
   ],
   "source": [
    "l_test = 100\n",
    "dlugosc = 200\n",
    "limit = 100\n",
    "\n",
    "a, b, f, o = sedzia(WordBagOfAuthorClassifier, path_frag, path_zb_uczacy, l_test, dlugosc, seed=1, lim=limit)\n",
    "\n",
    "ilosc_celnych_doapsowan = 0\n",
    "for i in range(len(a)):\n",
    "    if a[i] == o[i]:\n",
    "        ilosc_celnych_doapsowan += 1\n",
    "#     print(a[i], o[i], a[i] == o[i])\n",
    "    \n",
    "print(\"łączna trafność dopasowań:\", ilosc_celnych_doapsowan / l_test)"
   ]
  },
  {
   "cell_type": "code",
   "execution_count": 3,
   "id": "a81f0da1",
   "metadata": {},
   "outputs": [
    {
     "name": "stdout",
     "output_type": "stream",
     "text": [
      "łączna trafność dopasowań: 0.87\n"
     ]
    }
   ],
   "source": [
    "l_test = 100\n",
    "dlugosc = 100\n",
    "limit = 100\n",
    "\n",
    "a, b, f, o = sedzia(WordBagOfAuthorClassifier, path_frag, path_zb_uczacy, l_test, dlugosc, seed=2, lim=limit)\n",
    "\n",
    "ilosc_celnych_doapsowan = 0\n",
    "for i in range(len(a)):\n",
    "    if a[i] == o[i]:\n",
    "        ilosc_celnych_doapsowan += 1\n",
    "#     print(a[i], o[i], a[i] == o[i])\n",
    "    \n",
    "print(\"łączna trafność dopasowań:\", ilosc_celnych_doapsowan / l_test)"
   ]
  },
  {
   "cell_type": "code",
   "execution_count": 4,
   "id": "6f4ddc5e",
   "metadata": {},
   "outputs": [
    {
     "name": "stdout",
     "output_type": "stream",
     "text": [
      "łączna trafność dopasowań: 0.89\n"
     ]
    }
   ],
   "source": [
    "l_test = 100\n",
    "dlugosc = 50\n",
    "limit = 100\n",
    "\n",
    "a, b, f, o = sedzia(WordBagOfAuthorClassifier, path_frag, path_zb_uczacy, l_test, dlugosc, seed=3, lim=limit)\n",
    "\n",
    "ilosc_celnych_doapsowan = 0\n",
    "for i in range(len(a)):\n",
    "    if a[i] == o[i]:\n",
    "        ilosc_celnych_doapsowan += 1\n",
    "#     print(a[i], o[i], a[i] == o[i])\n",
    "    \n",
    "print(\"łączna trafność dopasowań:\", ilosc_celnych_doapsowan / l_test)"
   ]
  },
  {
   "cell_type": "code",
   "execution_count": 5,
   "id": "e06ff501",
   "metadata": {},
   "outputs": [
    {
     "name": "stdout",
     "output_type": "stream",
     "text": [
      "łączna trafność dopasowań: 0.79\n"
     ]
    }
   ],
   "source": [
    "l_test = 100\n",
    "dlugosc = 25\n",
    "limit = 100\n",
    "\n",
    "a, b, f, o = sedzia(WordBagOfAuthorClassifier, path_frag, path_zb_uczacy, l_test, dlugosc, seed=4, lim=limit)\n",
    "\n",
    "ilosc_celnych_doapsowan = 0\n",
    "for i in range(len(a)):\n",
    "    if a[i] == o[i]:\n",
    "        ilosc_celnych_doapsowan += 1\n",
    "#     print(a[i], o[i], a[i] == o[i])\n",
    "    \n",
    "print(\"łączna trafność dopasowań:\", ilosc_celnych_doapsowan / l_test)"
   ]
  },
  {
   "cell_type": "code",
   "execution_count": 6,
   "id": "8aeb8234",
   "metadata": {},
   "outputs": [
    {
     "name": "stdout",
     "output_type": "stream",
     "text": [
      "łączna trafność dopasowań: 0.09\n"
     ]
    }
   ],
   "source": [
    "l_test = 100\n",
    "dlugosc = 1\n",
    "limit = 100\n",
    "\n",
    "a, b, f, o = sedzia(WordBagOfAuthorClassifier, path_frag, path_zb_uczacy, l_test, dlugosc, seed=5, lim=limit)\n",
    "\n",
    "ilosc_celnych_doapsowan = 0\n",
    "for i in range(len(a)):\n",
    "    if a[i] == o[i]:\n",
    "        ilosc_celnych_doapsowan += 1\n",
    "#     print(a[i], o[i], a[i] == o[i])\n",
    "    \n",
    "print(\"łączna trafność dopasowań:\", ilosc_celnych_doapsowan / l_test)"
   ]
  },
  {
   "cell_type": "markdown",
   "id": "586af81c",
   "metadata": {},
   "source": [
    "Dla tego klasyfikatora obserwujemy ciągły spadek celności proporcjonalny do spadku długości dopasowywanych fragmentów.  \n",
    "Sprawdźmy teraz jaki wpływ na trafność dopasowań będzie miał limit najczęstszych tokenów w słownikach autorów."
   ]
  },
  {
   "cell_type": "code",
   "execution_count": 7,
   "id": "e0167226",
   "metadata": {},
   "outputs": [
    {
     "name": "stdout",
     "output_type": "stream",
     "text": [
      "łączna trafność dopasowań: 0.8\n"
     ]
    }
   ],
   "source": [
    "l_test = 100\n",
    "dlugosc = 100\n",
    "limit = 25\n",
    "\n",
    "a, b, f, o = sedzia(WordBagOfAuthorClassifier, path_frag, path_zb_uczacy, l_test, dlugosc, seed=11, lim=limit)\n",
    "\n",
    "ilosc_celnych_doapsowan = 0\n",
    "for i in range(len(a)):\n",
    "    if a[i] == o[i]:\n",
    "        ilosc_celnych_doapsowan += 1\n",
    "#     print(a[i], o[i], a[i] == o[i])\n",
    "    \n",
    "print(\"łączna trafność dopasowań:\", ilosc_celnych_doapsowan / l_test)"
   ]
  },
  {
   "cell_type": "code",
   "execution_count": 8,
   "id": "50c7cafb",
   "metadata": {},
   "outputs": [
    {
     "name": "stdout",
     "output_type": "stream",
     "text": [
      "łączna trafność dopasowań: 0.8\n"
     ]
    }
   ],
   "source": [
    "l_test = 100\n",
    "dlugosc = 100\n",
    "limit = 100\n",
    "\n",
    "a, b, f, o = sedzia(WordBagOfAuthorClassifier, path_frag, path_zb_uczacy, l_test, dlugosc, seed=12, lim=limit)\n",
    "\n",
    "ilosc_celnych_doapsowan = 0\n",
    "for i in range(len(a)):\n",
    "    if a[i] == o[i]:\n",
    "        ilosc_celnych_doapsowan += 1\n",
    "#     print(a[i], o[i], a[i] == o[i])\n",
    "    \n",
    "print(\"łączna trafność dopasowań:\", ilosc_celnych_doapsowan / l_test)"
   ]
  },
  {
   "cell_type": "code",
   "execution_count": 9,
   "id": "e797292f",
   "metadata": {},
   "outputs": [
    {
     "name": "stdout",
     "output_type": "stream",
     "text": [
      "łączna trafność dopasowań: 0.9\n"
     ]
    }
   ],
   "source": [
    "l_test = 100\n",
    "dlugosc = 100\n",
    "limit = 500\n",
    "\n",
    "a, b, f, o = sedzia(WordBagOfAuthorClassifier, path_frag, path_zb_uczacy, l_test, dlugosc, seed=13, lim=limit)\n",
    "\n",
    "ilosc_celnych_doapsowan = 0\n",
    "for i in range(len(a)):\n",
    "    if a[i] == o[i]:\n",
    "        ilosc_celnych_doapsowan += 1\n",
    "#     print(a[i], o[i], a[i] == o[i])\n",
    "    \n",
    "print(\"łączna trafność dopasowań:\", ilosc_celnych_doapsowan / l_test)"
   ]
  },
  {
   "cell_type": "code",
   "execution_count": 10,
   "id": "28c4cfc5",
   "metadata": {},
   "outputs": [
    {
     "name": "stdout",
     "output_type": "stream",
     "text": [
      "łączna trafność dopasowań: 0.94\n"
     ]
    }
   ],
   "source": [
    "l_test = 100\n",
    "dlugosc = 100\n",
    "limit = 1000\n",
    "\n",
    "a, b, f, o = sedzia(WordBagOfAuthorClassifier, path_frag, path_zb_uczacy, l_test, dlugosc, seed=14, lim=limit)\n",
    "\n",
    "ilosc_celnych_doapsowan = 0\n",
    "for i in range(len(a)):\n",
    "    if a[i] == o[i]:\n",
    "        ilosc_celnych_doapsowan += 1\n",
    "#     print(a[i], o[i], a[i] == o[i])\n",
    "    \n",
    "print(\"łączna trafność dopasowań:\", ilosc_celnych_doapsowan / l_test)"
   ]
  },
  {
   "cell_type": "markdown",
   "id": "326e3d5f",
   "metadata": {},
   "source": [
    "Zwiększanie objętości słowników znacząco wpływa na trafność klasyfikatora. Przypadkiem granicznym jest oczywiście zawarcie w słownikach wszystkich tokenów. Wtedy celność osiągnie 100%, ale klasyfikator tak naprawdę będzie musiał przechowywać całe teksty utworów. Limit powinien być odpowiednio mały, by trafność była zadowalająca, a za razem pamięć zajmowana przez klasyfikator znacznie mniejsza od objętości wszystkich tekstów. Limit w okolicach 100-500 tokenów spełniałby te warunki."
   ]
  },
  {
   "cell_type": "code",
   "execution_count": 11,
   "id": "1ae2322d",
   "metadata": {},
   "outputs": [
    {
     "name": "stdout",
     "output_type": "stream",
     "text": [
      "łączna trafność dopasowań: 0.94\n"
     ]
    }
   ],
   "source": [
    "l_test = 100\n",
    "dlugosc = 1000\n",
    "limit = 1000\n",
    "\n",
    "a, b, f, o = sedzia(WordBagOfAuthorClassifier, path_frag, path_zb_uczacy, l_test, dlugosc, seed=21, lim=limit)\n",
    "\n",
    "ilosc_celnych_doapsowan = 0\n",
    "for i in range(len(a)):\n",
    "    if a[i] == o[i]:\n",
    "        ilosc_celnych_doapsowan += 1\n",
    "#     print(a[i], o[i], a[i] == o[i])\n",
    "    \n",
    "print(\"łączna trafność dopasowań:\", ilosc_celnych_doapsowan / l_test)"
   ]
  },
  {
   "cell_type": "code",
   "execution_count": 12,
   "id": "c4d32770",
   "metadata": {},
   "outputs": [
    {
     "name": "stdout",
     "output_type": "stream",
     "text": [
      "łączna trafność dopasowań: 0.81\n"
     ]
    }
   ],
   "source": [
    "l_test = 100\n",
    "dlugosc = 25\n",
    "limit = 1000\n",
    "\n",
    "a, b, f, o = sedzia(WordBagOfAuthorClassifier, path_frag, path_zb_uczacy, l_test, dlugosc, seed=22, lim=limit)\n",
    "\n",
    "ilosc_celnych_doapsowan = 0\n",
    "for i in range(len(a)):\n",
    "    if a[i] == o[i]:\n",
    "        ilosc_celnych_doapsowan += 1\n",
    "#     print(a[i], o[i], a[i] == o[i])\n",
    "    \n",
    "print(\"łączna trafność dopasowań:\", ilosc_celnych_doapsowan / l_test)"
   ]
  },
  {
   "cell_type": "code",
   "execution_count": 13,
   "id": "976cbc6f",
   "metadata": {},
   "outputs": [
    {
     "name": "stdout",
     "output_type": "stream",
     "text": [
      "łączna trafność dopasowań: 0.87\n"
     ]
    }
   ],
   "source": [
    "l_test = 100\n",
    "dlugosc = 1000\n",
    "limit = 25\n",
    "\n",
    "a, b, f, o = sedzia(WordBagOfAuthorClassifier, path_frag, path_zb_uczacy, l_test, dlugosc, seed=23, lim=limit)\n",
    "\n",
    "ilosc_celnych_doapsowan = 0\n",
    "for i in range(len(a)):\n",
    "    if a[i] == o[i]:\n",
    "        ilosc_celnych_doapsowan += 1\n",
    "#     print(a[i], o[i], a[i] == o[i])\n",
    "    \n",
    "print(\"łączna trafność dopasowań:\", ilosc_celnych_doapsowan / l_test)"
   ]
  },
  {
   "cell_type": "code",
   "execution_count": 14,
   "id": "b582c85e",
   "metadata": {},
   "outputs": [
    {
     "name": "stdout",
     "output_type": "stream",
     "text": [
      "łączna trafność dopasowań: 0.6\n"
     ]
    }
   ],
   "source": [
    "l_test = 100\n",
    "dlugosc = 25\n",
    "limit = 25\n",
    "\n",
    "a, b, f, o = sedzia(WordBagOfAuthorClassifier, path_frag, path_zb_uczacy, l_test, dlugosc, seed=24, lim=limit)\n",
    "\n",
    "ilosc_celnych_doapsowan = 0\n",
    "for i in range(len(a)):\n",
    "    if a[i] == o[i]:\n",
    "        ilosc_celnych_doapsowan += 1\n",
    "#     print(a[i], o[i], a[i] == o[i])\n",
    "    \n",
    "print(\"łączna trafność dopasowań:\", ilosc_celnych_doapsowan / l_test)"
   ]
  },
  {
   "cell_type": "markdown",
   "id": "7209a1ab",
   "metadata": {},
   "source": [
    "W przypadkach granicznych klasyfikator działał zgodnie z wcześniejszymi obserwacjami i wysnutymi wnioskami. Celność natomiast dalej utrzymywała się na poziomie powyżej 50%..."
   ]
  },
  {
   "cell_type": "code",
   "execution_count": 15,
   "id": "51392b36",
   "metadata": {},
   "outputs": [
    {
     "name": "stdout",
     "output_type": "stream",
     "text": [
      "łączna trafność dopasowań: 0.16\n"
     ]
    }
   ],
   "source": [
    "l_test = 100\n",
    "dlugosc = 5\n",
    "limit = 5\n",
    "\n",
    "a, b, f, o = sedzia(WordBagOfAuthorClassifier, path_frag, path_zb_uczacy, l_test, dlugosc, seed=31, lim=limit)\n",
    "\n",
    "ilosc_celnych_doapsowan = 0\n",
    "for i in range(len(a)):\n",
    "    if a[i] == o[i]:\n",
    "        ilosc_celnych_doapsowan += 1\n",
    "#     print(a[i], o[i], a[i] == o[i])\n",
    "    \n",
    "print(\"łączna trafność dopasowań:\", ilosc_celnych_doapsowan / l_test)"
   ]
  },
  {
   "cell_type": "markdown",
   "id": "81f97235",
   "metadata": {},
   "source": [
    "...nie licząc oczywiście przypadków, dla których nawet to 16% wydaje się zaskakujące."
   ]
  }
 ],
 "metadata": {
  "kernelspec": {
   "display_name": "Python 3",
   "language": "python",
   "name": "python3"
  },
  "language_info": {
   "codemirror_mode": {
    "name": "ipython",
    "version": 3
   },
   "file_extension": ".py",
   "mimetype": "text/x-python",
   "name": "python",
   "nbconvert_exporter": "python",
   "pygments_lexer": "ipython3",
   "version": "3.8.8"
  }
 },
 "nbformat": 4,
 "nbformat_minor": 5
}

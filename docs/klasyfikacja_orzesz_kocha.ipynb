{
 "cells": [
  {
   "cell_type": "markdown",
   "metadata": {},
   "source": [
    "## Testowanie działania klasyfikatorów na pisarzach starych czasów i współczesnych\n"
   ]
  },
  {
   "cell_type": "markdown",
   "metadata": {},
   "source": [
    "Importujemy potrzebne biblioteki oraz implementację jednego z naszych klasyfikatorów"
   ]
  },
  {
   "cell_type": "code",
   "execution_count": 1,
   "metadata": {},
   "outputs": [],
   "source": [
    "import pandas as pd\n",
    "import sys\n",
    "sys.path.insert(1, '..')\n",
    "from src.txtdocmatrix import TxtDocMatrixClassifier"
   ]
  },
  {
   "cell_type": "markdown",
   "metadata": {},
   "source": [
    "## Następnie przechodzimy do klasyfikacji i testowania klasyfikatora"
   ]
  },
  {
   "cell_type": "markdown",
   "metadata": {},
   "source": [
    "Tworzymy klasifikator na podstawie, którego będziemy sprawdzać fragmenty tekstów."
   ]
  },
  {
   "cell_type": "code",
   "execution_count": 3,
   "metadata": {},
   "outputs": [],
   "source": [
    "K = TxtDocMatrixClassifier('..\\\\test_books\\\\orzeszkowa_kochanowski_books', 100)"
   ]
  },
  {
   "cell_type": "markdown",
   "metadata": {},
   "source": [
    "Zaczniemy od wyszukania słów w miarę oczywistych i charakterystycznych dla danego autora."
   ]
  },
  {
   "cell_type": "code",
   "execution_count": 5,
   "metadata": {},
   "outputs": [
    {
     "name": "stdout",
     "output_type": "stream",
     "text": [
      "{'eliza-orzeszkowa': 240, 'jan-kochanowski': 0}\n"
     ]
    }
   ],
   "source": [
    "#Framgent tesktu Cnotliwi Orzeszkowej\n",
    "\n",
    "fragment = '''Rzemiosło albo towar czynią sobie z cnoty,\n",
    "Zdobywając zaszczyty, wiarę, poważanie,\n",
    "Przez udane zapały i ócz przewracanie.\n",
    "Ci ludzie, którzy biegną z gorliwością rzadką,'''\n",
    "print(K.classifyFullProb(fragment))"
   ]
  },
  {
   "cell_type": "code",
   "execution_count": 6,
   "metadata": {},
   "outputs": [
    {
     "name": "stdout",
     "output_type": "stream",
     "text": [
      "{'eliza-orzeszkowa': 382, 'jan-kochanowski': 21}\n"
     ]
    }
   ],
   "source": [
    "#Framgent tesktu Dymy Orzeszkowej\n",
    "\n",
    "fragment = '''Nibyto jeszcze koniec lata, a niby początek jesieni. Kalendarz juliański mówi, że to ostatnie dni sierpnia, a gregoryański, że pierwsze września. Mniejsza o to. Kalendarze i podział czasu na miesiące — rzecz ludzka, a natura czyni swoje. Teraz uczyniła tak, że pierwszy rąbek wschodzącej jesieni nasuwa się na ostatni rąbek zachodzącego lata.'''\n",
    "print(K.classifyFullProb(fragment))"
   ]
  },
  {
   "cell_type": "code",
   "execution_count": 7,
   "metadata": {},
   "outputs": [
    {
     "name": "stdout",
     "output_type": "stream",
     "text": [
      "{'eliza-orzeszkowa': 1785, 'jan-kochanowski': 0}\n"
     ]
    }
   ],
   "source": [
    "#Framgent tesktu Gloria Victis Panna Roza Orzeszkowej\n",
    "\n",
    "fragment = '''Moja panno Różo, ja mam dwie siostry i nie powiem, abyśmy, razem u papy będąc, bardzo sobie życie nawzajem uprzyjemniały! Ja pannę Różę szanuję i w domu moim pani mieć będzie wszelkie wygody, ale próżnych słów nie lubię. Kochanie! Siostry! Po cóż to mówić, skoro my z panną Różą ani kochać się nie potrzebujemy, ani siostrami nie jesteśmy. Najlepiej żyć bez fikcji!'''\n",
    "print(K.classifyFullProb(fragment))"
   ]
  },
  {
   "cell_type": "code",
   "execution_count": 10,
   "metadata": {},
   "outputs": [
    {
     "name": "stdout",
     "output_type": "stream",
     "text": [
      "{'eliza-orzeszkowa': 0, 'jan-kochanowski': 27}\n"
     ]
    }
   ],
   "source": [
    "#Framgent tesktu Cnotliwi Orzeszkowej\n",
    "\n",
    "fragment = '''\n",
    "Fraszki tym książkom dzieją: kto się puści na nie\n",
    "Uszczypliwym językiem, za fraszką nie stanie.'''\n",
    "print(K.classifyFullProb(fragment))"
   ]
  },
  {
   "cell_type": "code",
   "execution_count": 11,
   "metadata": {},
   "outputs": [
    {
     "name": "stdout",
     "output_type": "stream",
     "text": [
      "{'eliza-orzeszkowa': 0, 'jan-kochanowski': 27}\n"
     ]
    }
   ],
   "source": [
    "#Framgent tesktu Cnotliwi Orzeszkowej\n",
    "\n",
    "fragment = '''\n",
    "Że krótkie fraszki czynię, to, Jakubie, winisz?\n",
    "Krótsze twoje nierówno, bo ich ty nie czynisz.'''\n",
    "print(K.classifyFullProb(fragment))"
   ]
  },
  {
   "cell_type": "markdown",
   "metadata": {},
   "source": [
    "### Wnioski"
   ]
  },
  {
   "cell_type": "markdown",
   "metadata": {},
   "source": [
    "W tych testach klasyfikatorem zbadaliśmy działanie klasyfikatora dla artystów z zupełnie innych epok. Dzielą ich setki lat, co na logikę sprawi, że klasyfikacja będzie działała bardzo dobrze. I tak też jest. Widzimy, że teksty poetów są bez wątpliwości przypisywane odpowiedniemy autorowi. Nie ma tutaj wyników zbliżonych tak jak to było przy Słowackim, Mickiewiczu i Sienkiewiczu. Takie wyniki wynikają przede wszystkim ze wspomnianej różnicy pokoleń. Inny język, inne problemy, inna tematyka. Taka różnorodnośc sprawia, że klasyfikator radzi sobie perfekcyjnie, niż by autorach żyjących w podobnych czasach."
   ]
  }
 ],
 "metadata": {
  "interpreter": {
   "hash": "f5b06153cd381b316087c2b284f95143ec60e76ac74c494d86ea6d4b0998e97d"
  },
  "kernelspec": {
   "display_name": "Python 3",
   "language": "python",
   "name": "python3"
  },
  "language_info": {
   "codemirror_mode": {
    "name": "ipython",
    "version": 3
   },
   "file_extension": ".py",
   "mimetype": "text/x-python",
   "name": "python",
   "nbconvert_exporter": "python",
   "pygments_lexer": "ipython3",
   "version": "3.8.8"
  }
 },
 "nbformat": 4,
 "nbformat_minor": 2
}

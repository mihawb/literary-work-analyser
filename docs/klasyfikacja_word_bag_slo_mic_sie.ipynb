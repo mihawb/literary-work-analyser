{
 "cells": [
  {
   "cell_type": "markdown",
   "metadata": {},
   "source": [
    "## Klasyfikacja za pomocą worka słów dzieł trzech polskich poetów"
   ]
  },
  {
   "cell_type": "markdown",
   "metadata": {},
   "source": [
    "Importujemy potrzebne biblioteki"
   ]
  },
  {
   "cell_type": "code",
   "execution_count": 82,
   "metadata": {},
   "outputs": [],
   "source": [
    "import os, fnmatch\n",
    "import sys\n",
    "sys.path.insert(1, '..')\n",
    "from src.authorwordbag import WordBagOfAuthorClassifier"
   ]
  },
  {
   "cell_type": "markdown",
   "metadata": {},
   "source": [
    "### Przechodzimy teraz do sprawdzania klasyfikatora bazującego na worku słów\n"
   ]
  },
  {
   "cell_type": "code",
   "execution_count": 83,
   "metadata": {},
   "outputs": [],
   "source": [
    "K = WordBagOfAuthorClassifier('..\\\\test_books\\mickiewicz_sienkiewicz_slowacki_books', 150)"
   ]
  },
  {
   "cell_type": "markdown",
   "metadata": {},
   "source": [
    "Zaczniemy od wyszukania słów w miarę oczywistych i charakterystycznych dla danego autora."
   ]
  },
  {
   "cell_type": "code",
   "execution_count": 84,
   "metadata": {},
   "outputs": [
    {
     "name": "stdout",
     "output_type": "stream",
     "text": [
      "{'adam-mickiewicz': 1.384038287414306, 'henryk-sienkiewicz': 0.0, 'juliusz-slowacki': 0.0}\n",
      "adam-mickiewicz\n"
     ]
    }
   ],
   "source": [
    "fragment = 'Tadeusz'\n",
    "print(K.classifyFullProb(fragment))\n",
    "print(K.classify(fragment))"
   ]
  },
  {
   "cell_type": "code",
   "execution_count": 85,
   "metadata": {},
   "outputs": [
    {
     "name": "stdout",
     "output_type": "stream",
     "text": [
      "{'adam-mickiewicz': 0.0, 'henryk-sienkiewicz': 0.0, 'juliusz-slowacki': 4.558356987810987}\n",
      "juliusz-slowacki\n"
     ]
    }
   ],
   "source": [
    "fragment = 'Balladyna'\n",
    "print(K.classifyFullProb(fragment))\n",
    "print(K.classify(fragment))"
   ]
  },
  {
   "cell_type": "code",
   "execution_count": 86,
   "metadata": {},
   "outputs": [
    {
     "name": "stdout",
     "output_type": "stream",
     "text": [
      "{'adam-mickiewicz': 0.0, 'henryk-sienkiewicz': 2.905635171241195, 'juliusz-slowacki': 0.0}\n",
      "henryk-sienkiewicz\n"
     ]
    }
   ],
   "source": [
    "fragment = 'Zbyszko'\n",
    "print(K.classifyFullProb(fragment))\n",
    "print(K.classify(fragment))"
   ]
  },
  {
   "cell_type": "markdown",
   "metadata": {},
   "source": [
    "Wyniki są póki co bardzo dobre, program bez problemu poradził sobie z klasyfikacją podanych fraz do odpowidnich autorów."
   ]
  },
  {
   "cell_type": "markdown",
   "metadata": {},
   "source": [
    "Teraz sprawdźmy nasz klasyfikator dla całych zdań wyjętych z książek."
   ]
  },
  {
   "cell_type": "code",
   "execution_count": 87,
   "metadata": {},
   "outputs": [
    {
     "name": "stdout",
     "output_type": "stream",
     "text": [
      "{'adam-mickiewicz': 0.0, 'henryk-sienkiewicz': 1.9158367743502551, 'juliusz-slowacki': 0.0}\n",
      "henryk-sienkiewicz\n"
     ]
    }
   ],
   "source": [
    "#Fragment książki W Pustyni i w Puszczy Sienkiewicza\n",
    "fragment = 'Staś, który kończył rok czternasty i który swą ośmioletnią towarzyszkę kochał bardzo'\n",
    "print(K.classifyFullProb(fragment))\n",
    "print(K.classify(fragment))"
   ]
  },
  {
   "cell_type": "code",
   "execution_count": 88,
   "metadata": {},
   "outputs": [
    {
     "name": "stdout",
     "output_type": "stream",
     "text": [
      "{'adam-mickiewicz': 2.625792264907515, 'henryk-sienkiewicz': 4.8366529025989795, 'juliusz-slowacki': 0.7012856904324595}\n",
      "henryk-sienkiewicz\n"
     ]
    }
   ],
   "source": [
    "#Fragment książki Krzyżacy Sienkiewicza\n",
    "fragment = 'Jurand, znalazłszy się na podwórzu zamkowym, nie wiedział zrazu, dokąd iść, gdyż knecht, który go przeprowadził przez bramę, opuścił go i udał się ku stajniom. Przy blankach stali wprawdzie żołdacy, to pojedynczo, to po kilku razem, ale twarze ich były tak zuchwałe, a spojrzenia tak szydercze, iż łatwo było rycerzowi odgadnąć, że mu drogi nie wskażą, a jeżeli na pytanie odpowiedzą, to chyba grubiaństwem lub zniewagą. Niektórzy śmieli się, pokazując go sobie palcami; inni poczęli nań znów miotać śniegiem, tak samo jak dnia wczorajszego. Lecz on, spostrzegłszy drzwi większe od innych, nad którymi wykuty był w kamieniu Chrystus na krzyżu, udał się ku nim w mniemaniu, że jeśli komtur i starszyzna znajdują się w innej części zamku lub w innych izbach, to go ktoś przecie musi z błędnej drogi nawrócić.'\n",
    "print(K.classifyFullProb(fragment))\n",
    "print(K.classify(fragment))"
   ]
  },
  {
   "cell_type": "code",
   "execution_count": 89,
   "metadata": {},
   "outputs": [
    {
     "name": "stdout",
     "output_type": "stream",
     "text": [
      "{'adam-mickiewicz': 2.0566550252231277, 'henryk-sienkiewicz': 1.3905756618897254, 'juliusz-slowacki': 1.569544164301219}\n",
      "adam-mickiewicz\n"
     ]
    }
   ],
   "source": [
    "#Fragment książki Balladyna Słowackiego\n",
    "fragment = '''Ty wiesz, jak nasza ziemia wszeteczeństwem\n",
    "Króla skalana. Wiesz, jak Popiel krwawy\n",
    "Pastwi się coraz nowym okrucieństwem…\n",
    "Zaczerwienione krwią widziałem stawy:\n",
    "Król żywi karpie ciałem niewolników.\n",
    "Nieraz wybiera dziesiątego z szyków\n",
    "I tnąc w kawały, ulubionym rybom\n",
    "Na żer wyrzuca; resztę ciał wymiata'''\n",
    "\n",
    "print(K.classifyFullProb(fragment))\n",
    "print(K.classify(fragment))"
   ]
  },
  {
   "cell_type": "code",
   "execution_count": 90,
   "metadata": {},
   "outputs": [
    {
     "name": "stdout",
     "output_type": "stream",
     "text": [
      "{'adam-mickiewicz': 0.0, 'henryk-sienkiewicz': 0.0, 'juliusz-slowacki': 2.5880781432626483}\n",
      "juliusz-slowacki\n"
     ]
    }
   ],
   "source": [
    "#Fragment książki Balladyna Słowackiego\n",
    "fragment = '''Nim Kirkor w przepaść okropną się rzuci\n",
    "Szukając zemsty — chcę — chciałbym cię badać,\n",
    "Na jakim pieńku zaszczepić rodowe\n",
    "Drzewo Kirkorów, aby kiedyś nowe'''\n",
    "\n",
    "print(K.classifyFullProb(fragment))\n",
    "print(K.classify(fragment))"
   ]
  },
  {
   "cell_type": "markdown",
   "metadata": {},
   "source": [
    "Teraz staramy się zklasyfikować losowe zdania z współczesnego świata"
   ]
  },
  {
   "cell_type": "code",
   "execution_count": 91,
   "metadata": {},
   "outputs": [
    {
     "name": "stdout",
     "output_type": "stream",
     "text": [
      "{'adam-mickiewicz': 0.0, 'henryk-sienkiewicz': 0.0, 'juliusz-slowacki': 0.0}\n",
      "\n"
     ]
    }
   ],
   "source": [
    "#Fragment wiersza Lokomytwa Tuwima\n",
    "fragment = '''Stoi na stacji lokomotywa,\n",
    "Ciężka, ogromna i pot z niej spływa:\n",
    "Tłusta oliwa.\n",
    "Stoi i sapie, dyszy i dmucha'''\n",
    "\n",
    "print(K.classifyFullProb(fragment))\n",
    "print(K.classify(fragment))"
   ]
  },
  {
   "cell_type": "code",
   "execution_count": 92,
   "metadata": {},
   "outputs": [
    {
     "name": "stdout",
     "output_type": "stream",
     "text": [
      "{'adam-mickiewicz': 3.104384943733023, 'henryk-sienkiewicz': 4.047243138207433, 'juliusz-slowacki': 2.1038570712973783}\n",
      "henryk-sienkiewicz\n"
     ]
    }
   ],
   "source": [
    "#Fragment książki Władcza Pierścieni Tolkiena\n",
    "fragment = '''Gandalf rozmyślał o wiośnie sprzed prawie osiemdziesięciu lat, kiedy to Bilbo wybiegł z Bag End bez chusteczki do nosa. On sam miał teraz włosy chyba bielsze niż wówczas, brodę dłuższą i brwi bardziej krzaczaste, twarz pobrużdżoną od doznanych przeżyć, ale oczy żywe jak zawsze. Kurzył fajeczkę i wydmuchiwał kółka dymu z tym samym co dawniej zadowoleniem.'''\n",
    "\n",
    "print(K.classifyFullProb(fragment))\n",
    "print(K.classify(fragment))"
   ]
  },
  {
   "cell_type": "code",
   "execution_count": 93,
   "metadata": {},
   "outputs": [
    {
     "name": "stdout",
     "output_type": "stream",
     "text": [
      "{'adam-mickiewicz': 0.5820721769499418, 'henryk-sienkiewicz': 0.0, 'juliusz-slowacki': 1.0686258139923193}\n",
      "juliusz-slowacki\n"
     ]
    }
   ],
   "source": [
    "#Fragment filmu Forrest Gump\n",
    "fragment = '''Moja mama zawsze mówiła: „Życie jest jak pudełko czekoladek. Nigdy nie wiesz, co ci się trafi.”'''\n",
    "print(K.classifyFullProb(fragment))\n",
    "print(K.classify(fragment))"
   ]
  },
  {
   "cell_type": "markdown",
   "metadata": {},
   "source": [
    "### Wnioski"
   ]
  },
  {
   "cell_type": "markdown",
   "metadata": {},
   "source": [
    "Patrząć na wyniki możemy dojść do naprawdę ciekawych obserwacji:\n",
    "\n",
    "* Dla słow kluczowych np. imion głównych, lub drugoplanowych bohaterów książek klasyfikacja przebiega bardzo dobrze i prawidłowo wykrywa odpowiedniego autora. Dodatkowo klasyfikacja jest oczywista, praktycznie \n",
    "inni autorzy nie są nawet trochę podobni\n",
    "* Wkładająć zdania z książek, też mamy w większości przypadków prawidłową klasyfikację, wyjątkiem jest jeden z fragmentów Balladyny, który został myli zklasyfikowany do Sienkiewicza, jest to prawdopodobnie spowodowane tym, że dany fragment nie była zbytnio charakterystyczny dla Balladyny a słowa, które wypowiadał były uniwersale np. dla tekstów sienkiewicza. Dodatkowo warto zauważyć, że teksty Sienkiewicza są bardzo\n",
    "długie np. Krzyżacy, Potop — z tego też powodu znajdziemy tam ogromą gammę styłów, czasów i wypowiedzi bohaterów co mogło po prostu przyćmić tekst Balladyny\n",
    "* Warto zauważyć, że dla innego fragmentu Balladyny w którym pojawia się \"Kirkor\" klasyfikacja przebiegła bardzo pomyślnie.\n",
    "* Jeżeli chodzi o wykrywanie fragmentów z innych dzieł, również i współczesnych tutaj sytuacja jest bardzo różna. Mamy przypadki takie jak z \"Lokomotywą\" gdzie nie znaleźliśmy żadnego powiąznia, a mamy sytuację z fragmentem książki \"Władca Pierścieni\", gdzie powiązanie z Sienkiewiczem jest bardzo duże."
   ]
  }
 ],
 "metadata": {
  "interpreter": {
   "hash": "f5b06153cd381b316087c2b284f95143ec60e76ac74c494d86ea6d4b0998e97d"
  },
  "kernelspec": {
   "display_name": "Python 3.9.10 64-bit (windows store)",
   "language": "python",
   "name": "python3"
  },
  "language_info": {
   "codemirror_mode": {
    "name": "ipython",
    "version": 3
   },
   "file_extension": ".py",
   "mimetype": "text/x-python",
   "name": "python",
   "nbconvert_exporter": "python",
   "pygments_lexer": "ipython3",
   "version": "3.9.10"
  },
  "orig_nbformat": 4
 },
 "nbformat": 4,
 "nbformat_minor": 2
}

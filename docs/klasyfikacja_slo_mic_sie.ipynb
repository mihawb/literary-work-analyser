{
 "cells": [
  {
   "cell_type": "markdown",
   "metadata": {},
   "source": [
    "## Testowanie działania klasyfikatorów na trójce polskich pisarzy\n"
   ]
  },
  {
   "cell_type": "markdown",
   "metadata": {},
   "source": [
    "Importujemy potrzebne biblioteki oraz implementację jednego z naszych klasyfikatorów"
   ]
  },
  {
   "cell_type": "code",
   "execution_count": 1,
   "metadata": {},
   "outputs": [],
   "source": [
    "import pandas as pd\n",
    "import sys\n",
    "sys.path.insert(1, '..')\n",
    "from src.txtdocmatrix import TxtDocMatrixClassifier"
   ]
  },
  {
   "cell_type": "markdown",
   "metadata": {},
   "source": [
    "## Następnie przechodzimy do klasyfikacji i testowania klasyfikatora"
   ]
  },
  {
   "cell_type": "markdown",
   "metadata": {},
   "source": [
    "Tworzymy klasifikator na podstawie, którego będziemy sprawdzać fragmenty tekstów."
   ]
  },
  {
   "cell_type": "code",
   "execution_count": 2,
   "metadata": {},
   "outputs": [],
   "source": [
    "K = TxtDocMatrixClassifier('..\\\\test_books\\\\mickiewicz_sienkiewicz_slowacki_books', 100)"
   ]
  },
  {
   "cell_type": "markdown",
   "metadata": {},
   "source": [
    "Zaczniemy od wyszukania słów w miarę oczywistych i charakterystycznych dla danego autora."
   ]
  },
  {
   "cell_type": "code",
   "execution_count": 3,
   "metadata": {},
   "outputs": [
    {
     "name": "stdout",
     "output_type": "stream",
     "text": [
      "{'adam-mickiewicz': 107, 'henryk-sienkiewicz': 0, 'juliusz-slowacki': 0}\n"
     ]
    }
   ],
   "source": [
    "fragment = 'Tadeusz'\n",
    "print(K.classifyFullProb(fragment))"
   ]
  },
  {
   "cell_type": "code",
   "execution_count": 4,
   "metadata": {},
   "outputs": [
    {
     "name": "stdout",
     "output_type": "stream",
     "text": [
      "{'adam-mickiewicz': 0, 'henryk-sienkiewicz': 0, 'juliusz-slowacki': 273}\n"
     ]
    }
   ],
   "source": [
    "fragment = 'Balladyna'\n",
    "print(K.classifyFullProb(fragment))"
   ]
  },
  {
   "cell_type": "code",
   "execution_count": 5,
   "metadata": {},
   "outputs": [
    {
     "name": "stdout",
     "output_type": "stream",
     "text": [
      "{'adam-mickiewicz': 0, 'henryk-sienkiewicz': 957, 'juliusz-slowacki': 0}\n"
     ]
    }
   ],
   "source": [
    "fragment = 'Zbyszko'\n",
    "print(K.classifyFullProb(fragment))"
   ]
  },
  {
   "cell_type": "markdown",
   "metadata": {},
   "source": [
    "Wyniki są póki co bardzo dobre, program bez problemu poradził sobie z klasyfikacją podanych fraz do odpowidnich autorów."
   ]
  },
  {
   "cell_type": "markdown",
   "metadata": {},
   "source": [
    "Teraz sprawdźmy nasz klasyfikator dla całych zdań wyjętych z książek."
   ]
  },
  {
   "cell_type": "code",
   "execution_count": 6,
   "metadata": {},
   "outputs": [
    {
     "name": "stdout",
     "output_type": "stream",
     "text": [
      "{'adam-mickiewicz': 0, 'henryk-sienkiewicz': 631, 'juliusz-slowacki': 0}\n"
     ]
    }
   ],
   "source": [
    "#Fragment książki W Pustyni i w Puszczy Sienkiewicza\n",
    "fragment = 'Staś, który kończył rok czternasty i który swą ośmioletnią towarzyszkę kochał bardzo'\n",
    "print(K.classifyFullProb(fragment))"
   ]
  },
  {
   "cell_type": "code",
   "execution_count": 7,
   "metadata": {},
   "outputs": [
    {
     "name": "stdout",
     "output_type": "stream",
     "text": [
      "{'adam-mickiewicz': 168, 'henryk-sienkiewicz': 1228, 'juliusz-slowacki': 42}\n"
     ]
    }
   ],
   "source": [
    "#Fragment książki Krzyżacy Sienkiewicza\n",
    "fragment = 'Jurand, znalazłszy się na podwórzu zamkowym, nie wiedział zrazu, dokąd iść, gdyż knecht, który go przeprowadził przez bramę, opuścił go i udał się ku stajniom. Przy blankach stali wprawdzie żołdacy, to pojedynczo, to po kilku razem, ale twarze ich były tak zuchwałe, a spojrzenia tak szydercze, iż łatwo było rycerzowi odgadnąć, że mu drogi nie wskażą, a jeżeli na pytanie odpowiedzą, to chyba grubiaństwem lub zniewagą. Niektórzy śmieli się, pokazując go sobie palcami; inni poczęli nań znów miotać śniegiem, tak samo jak dnia wczorajszego. Lecz on, spostrzegłszy drzwi większe od innych, nad którymi wykuty był w kamieniu Chrystus na krzyżu, udał się ku nim w mniemaniu, że jeśli komtur i starszyzna znajdują się w innej części zamku lub w innych izbach, to go ktoś przecie musi z błędnej drogi nawrócić.'\n",
    "print(K.classifyFullProb(fragment))"
   ]
  },
  {
   "cell_type": "code",
   "execution_count": 8,
   "metadata": {},
   "outputs": [
    {
     "name": "stdout",
     "output_type": "stream",
     "text": [
      "{'adam-mickiewicz': 88, 'henryk-sienkiewicz': 336, 'juliusz-slowacki': 71}\n"
     ]
    }
   ],
   "source": [
    "#Fragment książki Balladyna Słowackiego\n",
    "fragment = '''Ty wiesz, jak nasza ziemia wszeteczeństwem\n",
    "Króla skalana. Wiesz, jak Popiel krwawy\n",
    "Pastwi się coraz nowym okrucieństwem…\n",
    "Zaczerwienione krwią widziałem stawy:\n",
    "Król żywi karpie ciałem niewolników.\n",
    "Nieraz wybiera dziesiątego z szyków\n",
    "I tnąc w kawały, ulubionym rybom\n",
    "Na żer wyrzuca; resztę ciał wymiata'''\n",
    "\n",
    "print(K.classifyFullProb(fragment))"
   ]
  },
  {
   "cell_type": "code",
   "execution_count": 9,
   "metadata": {},
   "outputs": [
    {
     "name": "stdout",
     "output_type": "stream",
     "text": [
      "{'adam-mickiewicz': 0, 'henryk-sienkiewicz': 0, 'juliusz-slowacki': 113}\n"
     ]
    }
   ],
   "source": [
    "#Fragment książki Balladyna Słowackiego\n",
    "fragment = '''Nim Kirkor w przepaść okropną się rzuci\n",
    "Szukając zemsty — chcę — chciałbym cię badać,\n",
    "Na jakim pieńku zaszczepić rodowe\n",
    "Drzewo Kirkorów, aby kiedyś nowe'''\n",
    "\n",
    "print(K.classifyFullProb(fragment))"
   ]
  },
  {
   "cell_type": "markdown",
   "metadata": {},
   "source": [
    "Teraz staramy się zklasyfikować losowe zdania z współczesnego świata"
   ]
  },
  {
   "cell_type": "code",
   "execution_count": 10,
   "metadata": {},
   "outputs": [
    {
     "name": "stdout",
     "output_type": "stream",
     "text": [
      "{'adam-mickiewicz': 0, 'henryk-sienkiewicz': 0, 'juliusz-slowacki': 0}\n"
     ]
    }
   ],
   "source": [
    "#Fragment wiersza Lokomytwa Tuwima\n",
    "fragment = '''Stoi na stacji lokomotywa,\n",
    "Ciężka, ogromna i pot z niej spływa:\n",
    "Tłusta oliwa.\n",
    "Stoi i sapie, dyszy i dmucha'''\n",
    "\n",
    "print(K.classifyFullProb(fragment))"
   ]
  },
  {
   "cell_type": "code",
   "execution_count": 11,
   "metadata": {},
   "outputs": [
    {
     "name": "stdout",
     "output_type": "stream",
     "text": [
      "{'adam-mickiewicz': 207, 'henryk-sienkiewicz': 1215, 'juliusz-slowacki': 103}\n"
     ]
    }
   ],
   "source": [
    "#Fragment książki Władcza Pierścieni Tolkiena\n",
    "fragment = '''Gandalf rozmyślał o wiośnie sprzed prawie osiemdziesięciu lat, kiedy to Bilbo wybiegł z Bag End bez chusteczki do nosa. On sam miał teraz włosy chyba bielsze niż wówczas, brodę dłuższą i brwi bardziej krzaczaste, twarz pobrużdżoną od doznanych przeżyć, ale oczy żywe jak zawsze. Kurzył fajeczkę i wydmuchiwał kółka dymu z tym samym co dawniej zadowoleniem.'''\n",
    "\n",
    "print(K.classifyFullProb(fragment))"
   ]
  },
  {
   "cell_type": "code",
   "execution_count": 12,
   "metadata": {},
   "outputs": [
    {
     "name": "stdout",
     "output_type": "stream",
     "text": [
      "{'adam-mickiewicz': 45, 'henryk-sienkiewicz': 0, 'juliusz-slowacki': 41}\n"
     ]
    }
   ],
   "source": [
    "#Fragment filmu Forrest Gump\n",
    "fragment = '''Moja mama zawsze mówiła: „Życie jest jak pudełko czekoladek. Nigdy nie wiesz, co ci się trafi.”'''\n",
    "print(K.classifyFullProb(fragment))"
   ]
  },
  {
   "cell_type": "markdown",
   "metadata": {},
   "source": [
    "### Wnioski"
   ]
  },
  {
   "cell_type": "markdown",
   "metadata": {},
   "source": [
    "Patrząć na wyniki możemy dojść do naprawdę ciekawych obserwacji:\n",
    "\n",
    "* Dla słow kluczowych np. imion głównych, lub drugoplanowych bohaterów książek klasyfikacja przebiega bardzo dobrze i prawidłowo wykrywa odpowiedniego autora. Dodatkowo klasyfikacja jest oczywista, praktycznie \n",
    "inni autorzy nie są nawet trochę podobni\n",
    "* Wkładająć zdania z książek, też mamy w większości przypadków prawidłową klasyfikację, wyjątkiem jest jeden z fragmentów Balladyny, który został myli zklasyfikowany do Sienkiewicza, jest to prawdopodobnie spowodowane tym, że dany fragment nie była zbytnio charakterystyczny dla Balladyny a słowa, które wypowiadał były uniwersale np. dla tekstów sienkiewicza. Dodatkowo warto zauważyć, że teksty Sienkiewicza są bardzo\n",
    "długie np. Krzyżacy, Potop — z tego też powodu znajdziemy tam ogromą gammę styłów, czasów i wypowiedzi bohaterów co mogło po prostu przyćmić tekst Balladyny\n",
    "* Warto zauważyć, że dla innego fragmentu Balladyny w którym pojawia się \"Kirkor\" klasyfikacja przebiegła bardzo pomyślnie.\n",
    "* Jeżeli chodzi o wykrywanie fragmentów z innych dzieł, również i współczesnych tutaj sytuacja jest bardzo różna. Mamy przypadki takie jak z \"Lokomotywą\" gdzie nie znaleźliśmy żadnego powiąznia, a mamy sytuację z fragmentem książki \"Władca Pierścieni\", gdzie powiązanie z Sienkiewiczem jest bardzo duże."
   ]
  },
  {
   "cell_type": "markdown",
   "metadata": {},
   "source": [
    "Podsumowując, możemy stwierdzić, że klasyfikator działa poprawnie, jednak warto używać fragmentu, który jest w miarę charakterystyczny dla danego autora, szczególnie jeżeli mamy 3 autorów żyjących mnie więcej w tym samym czasie."
   ]
  }
 ],
 "metadata": {
  "interpreter": {
   "hash": "f5b06153cd381b316087c2b284f95143ec60e76ac74c494d86ea6d4b0998e97d"
  },
  "kernelspec": {
   "display_name": "Python 3",
   "language": "python",
   "name": "python3"
  },
  "language_info": {
   "codemirror_mode": {
    "name": "ipython",
    "version": 3
   },
   "file_extension": ".py",
   "mimetype": "text/x-python",
   "name": "python",
   "nbconvert_exporter": "python",
   "pygments_lexer": "ipython3",
   "version": "3.8.8"
  }
 },
 "nbformat": 4,
 "nbformat_minor": 2
}

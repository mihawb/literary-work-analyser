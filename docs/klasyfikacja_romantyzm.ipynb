{
 "cells": [
  {
   "cell_type": "markdown",
   "metadata": {},
   "source": [
    "## Testowanie działania klasyfikatorów na pisarzach Romantyzmu\n"
   ]
  },
  {
   "cell_type": "markdown",
   "metadata": {},
   "source": [
    "Importujemy potrzebne biblioteki oraz implementację jednego z naszych klasyfikatorów"
   ]
  },
  {
   "cell_type": "code",
   "execution_count": 1,
   "metadata": {},
   "outputs": [],
   "source": [
    "import pandas as pd\n",
    "import sys\n",
    "sys.path.insert(1, '..')\n",
    "from src.txtdocmatrix import TxtDocMatrixClassifier"
   ]
  },
  {
   "cell_type": "markdown",
   "metadata": {},
   "source": [
    "## Następnie przechodzimy do klasyfikacji i testowania klasyfikatora"
   ]
  },
  {
   "cell_type": "markdown",
   "metadata": {},
   "source": [
    "Tworzymy klasifikator na podstawie, którego będziemy sprawdzać fragmenty tekstów."
   ]
  },
  {
   "cell_type": "code",
   "execution_count": 2,
   "metadata": {},
   "outputs": [],
   "source": [
    "K = TxtDocMatrixClassifier('..\\\\test_books\\\\romantyzm_books', 100)"
   ]
  },
  {
   "cell_type": "code",
   "execution_count": 3,
   "metadata": {},
   "outputs": [],
   "source": [
    "def getMostLikelyAuthor(results):\n",
    "    maxa = \"\"\n",
    "    maxi = 0\n",
    "    for author in results:\n",
    "        if results[author] > maxi:\n",
    "            maxi = results[author]\n",
    "            maxa = author\n",
    "    return maxa"
   ]
  },
  {
   "cell_type": "markdown",
   "metadata": {},
   "source": [
    "Zaczniemy od wyszukania słów w miarę oczywistych i charakterystycznych dla danego autora."
   ]
  },
  {
   "cell_type": "code",
   "execution_count": 4,
   "metadata": {},
   "outputs": [
    {
     "name": "stdout",
     "output_type": "stream",
     "text": [
      "{'adam-mickiewicz': 0, 'aleksander-dumas-ojciec': 0, 'aleksander-dumas-syn': 0, 'alfred-de-musset': 0, 'alojzy-felinski': 13, 'aloysius-bertrand': 0, 'antanas-baranauskas': 0, 'autor-nieznany': 0, 'charles-baudelaire': 1, 'cyprian-kamil-norwid': 2, 'deotyma': 0, 'e-t-a-hoffmann': 0, 'edgar-allan-poe': 0, 'francois-rene-de-chateaubriand': 13, 'george-gordon-byron': 0, 'hans-christian-andersen': 0, 'honore-de-balzac': 0, 'jacob-i-wilhelm-grimm': 0, 'johann-wolfgang-von-goethe': 25, 'juliusz-slowacki': 0, 'karol-boloz-antoniewicz': 3, 'konstanty-gaszynski': 0, 'marceli-skalkowski': 0, 'stanislaw-jachowicz': 4, 'theodore-de-banville': 0, 'wincenty-pol': 0}\n",
      "johann-wolfgang-von-goethe\n"
     ]
    }
   ],
   "source": [
    "#Framgent tesktu Coś ty atenom zrobił Sokratesie Norwida\n",
    "\n",
    "fragment = '''Więc mniejsza o to, w jakiej spoczniesz urnie,\n",
    "Gdzie, kiedy, w jakim sensie i obliczu,\n",
    "Bo grób twój jeszcze odemkną powtórnie,\n",
    "Inaczej będą głosić twe zasługi\n",
    "I łez wylanych dziś będą się wstydzić,\n",
    "A lać ci będą łzy potęgi drugiéj\n",
    "Ci, co człowiekiem nie mogli cię widziéć.'''\n",
    "\n",
    "full = K.classifyFullProb(fragment)\n",
    "print(full)\n",
    "print(getMostLikelyAuthor(full))"
   ]
  },
  {
   "cell_type": "code",
   "execution_count": 5,
   "metadata": {},
   "outputs": [
    {
     "name": "stdout",
     "output_type": "stream",
     "text": [
      "{'adam-mickiewicz': 120, 'aleksander-dumas-ojciec': 90, 'aleksander-dumas-syn': 0, 'alfred-de-musset': 0, 'alojzy-felinski': 0, 'aloysius-bertrand': 0, 'antanas-baranauskas': 0, 'autor-nieznany': 0, 'charles-baudelaire': 0, 'cyprian-kamil-norwid': 0, 'deotyma': 127, 'e-t-a-hoffmann': 0, 'edgar-allan-poe': 6, 'francois-rene-de-chateaubriand': 0, 'george-gordon-byron': 38, 'hans-christian-andersen': 66, 'honore-de-balzac': 310, 'jacob-i-wilhelm-grimm': 5, 'johann-wolfgang-von-goethe': 35, 'juliusz-slowacki': 0, 'karol-boloz-antoniewicz': 0, 'konstanty-gaszynski': 0, 'marceli-skalkowski': 0, 'stanislaw-jachowicz': 4, 'theodore-de-banville': 0, 'wincenty-pol': 1}\n",
      "honore-de-balzac\n"
     ]
    }
   ],
   "source": [
    "#Framgent tesktu Dziady Mickiewicza\n",
    "\n",
    "fragment = '''DZIADY. Jest to nazwisko uroczystości obchodzonej dotąd między pospólstwem w wielu powiatach Litwy, Prus i Kurlandii, na pamiątkę dziadów, czyli w ogólności zmarłych przodków. Uroczystość ta początkiem swoim zasięga czasów pogańskich i zwała się niegdyś ucztą kozła, na której przewodniczył Koźlarz, Huslar, Guślarz, razem kapłan i poeta (gęślarz).'''\n",
    "\n",
    "full = K.classifyFullProb(fragment)\n",
    "print(full)\n",
    "print(getMostLikelyAuthor(full))"
   ]
  },
  {
   "cell_type": "code",
   "execution_count": 6,
   "metadata": {},
   "outputs": [
    {
     "name": "stdout",
     "output_type": "stream",
     "text": [
      "{'adam-mickiewicz': 120, 'aleksander-dumas-ojciec': 90, 'aleksander-dumas-syn': 0, 'alfred-de-musset': 0, 'alojzy-felinski': 0, 'aloysius-bertrand': 0, 'antanas-baranauskas': 0, 'autor-nieznany': 0, 'charles-baudelaire': 0, 'cyprian-kamil-norwid': 0, 'deotyma': 127, 'e-t-a-hoffmann': 0, 'edgar-allan-poe': 6, 'francois-rene-de-chateaubriand': 0, 'george-gordon-byron': 38, 'hans-christian-andersen': 66, 'honore-de-balzac': 310, 'jacob-i-wilhelm-grimm': 5, 'johann-wolfgang-von-goethe': 35, 'juliusz-slowacki': 0, 'karol-boloz-antoniewicz': 0, 'konstanty-gaszynski': 0, 'marceli-skalkowski': 0, 'stanislaw-jachowicz': 4, 'theodore-de-banville': 0, 'wincenty-pol': 1}\n",
      "honore-de-balzac\n"
     ]
    }
   ],
   "source": [
    "#Framgent tesktu Panienka Z Okienka Deotyzma\n",
    "\n",
    "fragemnt = '''Panowie i panny widocznie byli zadowoleni ze swojej strojności, bo szli z piersią wydętą jak u pawia, zerkając na przyglądające im się tłumy. Ale pan Kazimierz patrzył obojętnie; podobnych strojów, mniej lub więcej wykwintnych, mógł co dzień widywać krocie; podobny orszak weselny to w ludnym Gdańsku nie nowina. Dopiero za szeregami panien dostrzegł coś takiego, co go naprawdę zadziwiło, coś tak nadzwyczajnego, że oparł obie ręce o czekanik, aby wspiąć się na palce i lepiej zobaczyć.'''\n",
    "\n",
    "full = K.classifyFullProb(fragment)\n",
    "print(full)\n",
    "print(getMostLikelyAuthor(full))"
   ]
  },
  {
   "cell_type": "code",
   "execution_count": 7,
   "metadata": {},
   "outputs": [
    {
     "name": "stdout",
     "output_type": "stream",
     "text": [
      "{'adam-mickiewicz': 83, 'aleksander-dumas-ojciec': 49, 'aleksander-dumas-syn': 52, 'alfred-de-musset': 0, 'alojzy-felinski': 3, 'aloysius-bertrand': 0, 'antanas-baranauskas': 0, 'autor-nieznany': 1, 'charles-baudelaire': 0, 'cyprian-kamil-norwid': 2, 'deotyma': 562, 'e-t-a-hoffmann': 0, 'edgar-allan-poe': 18, 'francois-rene-de-chateaubriand': 41, 'george-gordon-byron': 198, 'hans-christian-andersen': 517, 'honore-de-balzac': 316, 'jacob-i-wilhelm-grimm': 20, 'johann-wolfgang-von-goethe': 128, 'juliusz-slowacki': 209, 'karol-boloz-antoniewicz': 0, 'konstanty-gaszynski': 0, 'marceli-skalkowski': 1, 'stanislaw-jachowicz': 16, 'theodore-de-banville': 0, 'wincenty-pol': 0}\n",
      "deotyma\n"
     ]
    }
   ],
   "source": [
    "#Framgent tesktu Bak i Piłka Andersena\n",
    "\n",
    "fragment = '''Pewnego dnia chłopczyk wziął piłkę z pudełka. Bąk widział, jak wysoko wzleciała w powietrze, jak ptak prawdziwy; w końcu zniknęła mu z oczu gdzieś w górze. Potem spadła na dół, a ile razy dotknęła ziemi, wzlatywała znowu, nie wiadomo, czy z tęsknoty do jaskółki, czy dlatego, że miała korek hiszpański wewnątrz.'''\n",
    "\n",
    "full = K.classifyFullProb(fragment)\n",
    "print(full)\n",
    "print(getMostLikelyAuthor(full))"
   ]
  },
  {
   "cell_type": "markdown",
   "metadata": {},
   "source": [
    "### Wnioski"
   ]
  },
  {
   "cell_type": "markdown",
   "metadata": {},
   "source": [
    "W tych testach skupiliśmy się na działaniu klasyfikatora, jeżeli danymi testowymi były teksty z tej samej epoki u nas był to Romantyz. Taki test pokaże nam jak klasyfikacja działa w dosyć trudnych warunkach, ponieważ autorzy tej samej epoki, często posługują się podobnym językiem, składnią oraz tematyką. Dodatkowo jest ich całkem sporo w naszym folderze.  Po wykonaniu kilku sprawdzeń dla klasyfikatora możemy dojść do takich o to wniskówk:\n",
    "\n",
    "* Klasyfikator o dziwo poradził sobie całkiem dobrze, nie we wszystkich przypadkach dobrze sklasifikował tekst, ale dla większości dobrze wybrał autora. \n",
    "* Co istotne wyniki są często bardzo zbiliżone co świadczy, tak jak wspomniałem o podobnym słownictwie oraz stylu pisania\n",
    "* Mało było przypadków oczywsitych, gdzie jeden autor górował nad wszystkimi\n",
    "* Co ciekawe nawet we fragmencie z Dziadów w którym pojawiło się bardzo charakterytstyczne słowo \"DZIADY\", został sklasifikowany Deotyma zamiast Mickiewicza, chociaż różnica była bardzo nieduża."
   ]
  }
 ],
 "metadata": {
  "interpreter": {
   "hash": "f5b06153cd381b316087c2b284f95143ec60e76ac74c494d86ea6d4b0998e97d"
  },
  "kernelspec": {
   "display_name": "Python 3",
   "language": "python",
   "name": "python3"
  },
  "language_info": {
   "codemirror_mode": {
    "name": "ipython",
    "version": 3
   },
   "file_extension": ".py",
   "mimetype": "text/x-python",
   "name": "python",
   "nbconvert_exporter": "python",
   "pygments_lexer": "ipython3",
   "version": "3.8.8"
  }
 },
 "nbformat": 4,
 "nbformat_minor": 2
}
